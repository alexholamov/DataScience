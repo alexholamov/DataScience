{
 "cells": [
  {
   "cell_type": "markdown",
   "metadata": {
    "id": "vmI-0lqiAnYG"
   },
   "source": [
    "# **Общие статистики**"
   ]
  },
  {
   "cell_type": "code",
   "execution_count": null,
   "metadata": {
    "id": "YTikf-FG4Zjz"
   },
   "outputs": [],
   "source": [
    "# Импортирование библиотеки, открытие файла, просмотр\n",
    "import pandas as pd\n",
    "import matplotlib.pyplot as plt\n",
    "import seaborn as sns\n",
    "from itertools import combinations\n",
    "from scipy.stats import ttest_ind\n",
    "\n",
    "mathmatics = pd.read_csv('stud_math.csv')\n",
    "display(mathmatics)"
   ]
  },
  {
   "cell_type": "code",
   "execution_count": null,
   "metadata": {
    "colab": {
     "base_uri": "https://localhost:8080/"
    },
    "id": "AIpU_shv3Y8D",
    "outputId": "ba8a87d0-cf39-4164-e15a-e0bab145bc4a"
   },
   "outputs": [],
   "source": [
    "# Детальная информация о колонках датафрейма (размер данных, названия признаков и их типы)\n",
    "mathmatics.info()\n",
    "print(f'Количество строк: {mathmatics.shape[0]}')\n",
    "print(f'Количество столбцов: {mathmatics.shape[1]}')\n",
    "print(f'Список столбцов: ', list(mathmatics.columns))"
   ]
  },
  {
   "cell_type": "code",
   "execution_count": null,
   "metadata": {
    "colab": {
     "base_uri": "https://localhost:8080/",
     "height": 334
    },
    "id": "VZqJGcmE1xMb",
    "outputId": "1f50f7a5-aab6-4686-ef30-3802b28e22e6"
   },
   "outputs": [],
   "source": [
    "# Основные статистические характеристики (числовые данные)\n",
    "mathmatics.describe()"
   ]
  },
  {
   "cell_type": "code",
   "execution_count": null,
   "metadata": {
    "colab": {
     "base_uri": "https://localhost:8080/"
    },
    "id": "3wib8A9S2ZO1",
    "outputId": "82e850ac-c178-4168-8aa8-50518739edd1"
   },
   "outputs": [],
   "source": [
    "# Подсчет процента пропуска значений в колонках (выбор более 10% пропусков)\n",
    "\n",
    "for col in mathmatics.columns:\n",
    "    pct_missing = mathmatics[col].isna().mean()\n",
    "    if pct_missing > 0.1:\n",
    "        print(f'{col} - {pct_missing : .1%}')"
   ]
  },
  {
   "cell_type": "code",
   "execution_count": null,
   "metadata": {
    "id": "ZE9Y-HmtJS1v"
   },
   "outputs": [],
   "source": [
    "# Ручное удаление выбросов\n",
    "Fedu_drop = mathmatics[mathmatics.Fedu == 40].index\n",
    "famrel_drop = mathmatics[mathmatics.famrel == -1.0].index\n",
    "absences_drop = mathmatics[(mathmatics.absences == 212) | (\n",
    "    mathmatics.absences == 385)].index\n",
    "\n",
    "mathmatics.drop(index=Fedu_drop, inplace=True)\n",
    "mathmatics.drop(index=famrel_drop, inplace=True)\n",
    "mathmatics.drop(index=absences_drop, inplace=True)"
   ]
  },
  {
   "cell_type": "markdown",
   "metadata": {
    "id": "sWtSIvRwaWq2"
   },
   "source": [
    "# **ЦЕЛЕВАЯ ПЕРЕМЕННАЯ** "
   ]
  },
  {
   "cell_type": "code",
   "execution_count": null,
   "metadata": {
    "colab": {
     "base_uri": "https://localhost:8080/"
    },
    "id": "uPVOxuoiaaZi",
    "outputId": "3f47b9f8-abdd-48e3-8145-1abf0806cc12"
   },
   "outputs": [],
   "source": [
    "# Заполнение пропусков в целевой переменной\n",
    "mathmatics.score = mathmatics.score.fillna(mathmatics.score.median())\n",
    "mathmatics.score.isna().sum()  # Проверяем, что заполнили все пропуски"
   ]
  },
  {
   "cell_type": "code",
   "execution_count": null,
   "metadata": {
    "colab": {
     "base_uri": "https://localhost:8080/"
    },
    "id": "pytu8_G9ahxM",
    "outputId": "6ef30410-a4b3-4725-fc51-3597078cc912"
   },
   "outputs": [],
   "source": [
    "# Удаление выбросов целевой переменной (если бы таковые были)\n",
    "IQR = mathmatics.score.quantile(0.75) - mathmatics.score.quantile(0.25)\n",
    "perc25 = mathmatics.score.quantile(0.25)\n",
    "perc75 = mathmatics.score.quantile(0.75)\n",
    "print(f\"25-й перцентиль: {perc25};\", f\"75-й перцентиль: {perc75};\",\n",
    "      f\"IQR: {IQR};\", f\"Границы выбросов: [{perc25 - 1.5*IQR}, {perc75 + 1.5*IQR}].\")\n",
    "\n",
    "mathmatics = mathmatics[mathmatics.score.between(\n",
    "    perc25 - 1.5*IQR, perc75 + 1.5*IQR)]"
   ]
  },
  {
   "cell_type": "code",
   "execution_count": null,
   "metadata": {
    "colab": {
     "base_uri": "https://localhost:8080/",
     "height": 1000
    },
    "id": "dC2Jbw6SQ3gC",
    "outputId": "f74aac85-798e-40eb-a695-aab946a0ea32"
   },
   "outputs": [],
   "source": [
    "# Построение коробчатых диаграмм для выявления закономерностей распределения признаков\n",
    "\n",
    "def get_boxplot(column):\n",
    "    \"\"\"Функция строит коробчатые диаграммы для нижеперечисленных колонок датасета\"\"\"\n",
    "    fig, ax = plt.subplots(figsize=(8, 4))\n",
    "    sns.boxplot(x=column, y='score', data=mathmatics, ax=ax)\n",
    "    plt.xticks(rotation=45)\n",
    "    ax.set_title('Boxplot for ' + column)\n",
    "    plt.show()\n",
    "\n",
    "\n",
    "for col in ['school', 'sex', 'age', 'address', 'famsize', 'Pstatus', 'Medu',\n",
    "            'Fedu', 'Mjob', 'Fjob', 'reason', 'guardian', 'traveltime', 'studytime',\n",
    "            'failures', 'schoolsup', 'famsup', 'paid', 'activities', 'nursery',\n",
    "            'higher', 'internet', 'romantic', 'famrel', 'freetime', 'goout',\n",
    "            'health', 'absences']:\n",
    "    get_boxplot(col)"
   ]
  },
  {
   "cell_type": "markdown",
   "metadata": {
    "id": "yTxwOCW6lxln"
   },
   "source": [
    "# **SCHOOL** \n",
    "- Количество случаев между школами распределено неравномерно\n",
    "- Медианное значение score выше в школе \"GP\" (оттуда 88% данных)\n",
    "- В школе \"MS\" никто не набрал ниже 20 баллов (за исключением единичного выброса)"
   ]
  },
  {
   "cell_type": "code",
   "execution_count": null,
   "metadata": {
    "id": "wo7-rOL3zrGR"
   },
   "outputs": [],
   "source": [
    "mathmatics.school.value_counts().plot(kind='bar')\n",
    "print(\n",
    "    f\"Количество уникальных значений в столбце school - {mathmatics.school.nunique()}\")"
   ]
  },
  {
   "cell_type": "markdown",
   "metadata": {
    "id": "9J_Bhzbg0jn8"
   },
   "source": [
    "# **SEX**\n",
    "- Распределение по полу в выборке равномерное\n",
    "- Судя по графику, среди мальчиков успеваемость по математике немного выше, чем у девочек\n"
   ]
  },
  {
   "cell_type": "code",
   "execution_count": null,
   "metadata": {
    "colab": {
     "base_uri": "https://localhost:8080/",
     "height": 281
    },
    "id": "QLvukudO0tTt",
    "outputId": "62ee8725-345c-46ed-9a29-29b54aeb4877"
   },
   "outputs": [],
   "source": [
    "mathmatics.sex.value_counts().plot(kind='bar')\n",
    "print(\n",
    "    f\"Количество уникальных значений в столбце sex - {mathmatics.sex.nunique()}\")"
   ]
  },
  {
   "cell_type": "markdown",
   "metadata": {
    "id": "UpIr9iJi9tQa"
   },
   "source": [
    "# **AGE**\n",
    "- Смещение выборки влево\n",
    "- Выборка представлена не всеми возрастными группами\n",
    "- Судя по коробчатому графику, медианное значение балла на экзамене максимальное в возрастной группе 20 лет, минимальное в 21 и 22 года. Однако данные результаты нельзя принимать во внимание, потому что количество случаев в вышеперечисленных возрастных группах минимальное. "
   ]
  },
  {
   "cell_type": "code",
   "execution_count": null,
   "metadata": {
    "colab": {
     "base_uri": "https://localhost:8080/",
     "height": 434
    },
    "id": "b1Kdx_s-9-R-",
    "outputId": "a6c906f7-8b14-4cd6-b51a-f83f7dc6151a"
   },
   "outputs": [],
   "source": [
    "mathmatics.age.plot(kind='hist', title='Age')\n",
    "mathmatics.age.describe()"
   ]
  },
  {
   "cell_type": "markdown",
   "metadata": {
    "id": "_8J82zPW_O4w"
   },
   "source": [
    "# **ADDRESS**\n",
    "- Распределение по адресу в выборке НЕ равномерное\n",
    "- Результаты экзамена по математике выше у учеников, проживающих по адресу \"U\""
   ]
  },
  {
   "cell_type": "code",
   "execution_count": null,
   "metadata": {
    "colab": {
     "base_uri": "https://localhost:8080/",
     "height": 280
    },
    "id": "FP7Q-Cab_Zwo",
    "outputId": "a069397a-d0bd-43dc-b436-8dd696f744a6"
   },
   "outputs": [],
   "source": [
    "mathmatics.address.value_counts(normalize=True).plot(kind='bar')\n",
    "print(\n",
    "    f\"Количество уникальных значений в столбце address - {mathmatics.sex.nunique()}\")"
   ]
  },
  {
   "cell_type": "markdown",
   "metadata": {
    "id": "WzzZPGV8AusR"
   },
   "source": [
    "# **FAMSIZE**\n",
    "- Распределение по размеру семьи в выборке НЕ равномерное\n",
    "- В семьях с меньшим количеством человек не наблюдается сдача экзамена на баллы ниже 20 (за исключением единичного выброса)"
   ]
  },
  {
   "cell_type": "code",
   "execution_count": null,
   "metadata": {
    "colab": {
     "base_uri": "https://localhost:8080/",
     "height": 292
    },
    "id": "lZzXX91LA2gL",
    "outputId": "7ddbc633-67d4-420b-d27c-bddb5f469ab7"
   },
   "outputs": [],
   "source": [
    "mathmatics.famsize.value_counts(normalize=True).plot(kind='bar')\n",
    "print(\n",
    "    f\"Количество уникальных значений в столбце famsize - {mathmatics.famsize.nunique()}\")"
   ]
  },
  {
   "cell_type": "markdown",
   "metadata": {
    "id": "iUC75ZieBvoX"
   },
   "source": [
    "# **PSTATUS**\n",
    "- Распределение по статусу совместного проживания родителей в выборке НЕ равномерное\n"
   ]
  },
  {
   "cell_type": "code",
   "execution_count": null,
   "metadata": {
    "colab": {
     "base_uri": "https://localhost:8080/",
     "height": 279
    },
    "id": "BEK1kPhAB2k0",
    "outputId": "4a707bbe-810d-4490-ae6c-011aba743fad"
   },
   "outputs": [],
   "source": [
    "mathmatics.Pstatus.value_counts().plot(kind='bar')\n",
    "print(\n",
    "    f\"Количество уникальных значений в столбце Pstatus - {mathmatics.Pstatus.nunique()}\")"
   ]
  },
  {
   "cell_type": "markdown",
   "metadata": {
    "id": "_d3LzCGuCgGM"
   },
   "source": [
    "# **MEDU, FEDU**\n",
    "- Распределение по образованию матери в выборке НЕ равномерное (больше всего представлено случаев с высшим образованием)\n",
    "- Более высокие баллы получали ученики, у которых матери имеют высшее образование\n",
    "- Распределение по образованию отца в выборке довольно равномерное"
   ]
  },
  {
   "cell_type": "code",
   "execution_count": null,
   "metadata": {
    "colab": {
     "base_uri": "https://localhost:8080/",
     "height": 265
    },
    "id": "Ll6h1RTHDJEz",
    "outputId": "d3d9909e-3e7d-44cd-b8be-9dfd23b437f6"
   },
   "outputs": [],
   "source": [
    "mathmatics.Medu.plot(kind='hist');"
   ]
  },
  {
   "cell_type": "code",
   "execution_count": null,
   "metadata": {
    "colab": {
     "base_uri": "https://localhost:8080/",
     "height": 265
    },
    "id": "UBxZwbsORyWg",
    "outputId": "226a38bf-4e93-4cb8-d562-ec4dcdc26c49"
   },
   "outputs": [],
   "source": [
    "mathmatics.Fedu.plot(kind='hist');"
   ]
  },
  {
   "cell_type": "markdown",
   "metadata": {
    "id": "0NHtG7sjJ1Ll"
   },
   "source": [
    "# **MJOB, FJOB**\n",
    "- Медианное значение баллов экзамена выше у учеников, матери которых работают в здравоохранении\n",
    "- Медианное значение баллов экзамена выше у учеников, отцы которых работают учителями"
   ]
  },
  {
   "cell_type": "markdown",
   "metadata": {
    "id": "HLB3dgDBNotv"
   },
   "source": [
    "# **GUARDIAN**\n",
    "- У абсолютного большинства учеников опекуном является мать\n",
    "- У тех учеников, у которых опекуном явлется отец, средний балл по экзамену не ниже 20 баллов"
   ]
  },
  {
   "cell_type": "code",
   "execution_count": null,
   "metadata": {
    "colab": {
     "base_uri": "https://localhost:8080/",
     "height": 291
    },
    "id": "aSYjK8MvN66R",
    "outputId": "38113238-44d7-43f5-d4d7-6743e3f5d2d0"
   },
   "outputs": [],
   "source": [
    "mathmatics.guardian.value_counts().plot(kind='bar');"
   ]
  },
  {
   "cell_type": "markdown",
   "metadata": {
    "id": "_uzPyHszO3k1"
   },
   "source": [
    "# **FAILURES, PAID, HIGHER**\n",
    "- Успеваемость выше у учеников, у которых количество внеучебных неудач ниже\n",
    "- Ученики, которые посещали дополнительные платные занятия по математики получили за экзамен более 20 баллов\n",
    "- Ученики, которые хотят получить высшее образование, сдали экзамен лучше (медианное значение выше, больше высоких баллов)"
   ]
  },
  {
   "cell_type": "markdown",
   "metadata": {
    "id": "6KrOYIzlYXvR"
   },
   "source": [
    "# **Работа с числовыми переменными**"
   ]
  },
  {
   "cell_type": "code",
   "execution_count": null,
   "metadata": {
    "colab": {
     "base_uri": "https://localhost:8080/",
     "height": 541
    },
    "id": "fXQBH6toIX3Z",
    "outputId": "1a059a0e-6f33-4de0-f56e-fcd5776d1b1e"
   },
   "outputs": [],
   "source": [
    "# Построение диаграмм рассеяния важных числовых переменных\n",
    "mathmatics.plot(kind='scatter', x='score', y='failures');\n",
    "mathmatics.plot(kind='scatter', x='score', y='absences');"
   ]
  },
  {
   "cell_type": "code",
   "execution_count": null,
   "metadata": {
    "colab": {
     "base_uri": "https://localhost:8080/",
     "height": 1000
    },
    "id": "a3G1mXttdoTL",
    "outputId": "4002f406-4cb9-484d-f2f6-2a6a64bcd35a"
   },
   "outputs": [],
   "source": [
    "# Быстрое построение графиков зависимости переменных\n",
    "sns.pairplot(mathmatics, kind = 'reg');"
   ]
  },
  {
   "cell_type": "code",
   "execution_count": null,
   "metadata": {
    "colab": {
     "base_uri": "https://localhost:8080/",
     "height": 847
    },
    "id": "sWyNSob_ESp9",
    "outputId": "ac3d0cd0-a3ac-4283-a2c6-5e67d0f21809"
   },
   "outputs": [],
   "source": [
    "# Использование матрица корреляции, подсчет индекса, построение тепловой карты\n",
    "correlation = mathmatics.corr()\n",
    "display(correlation)\n",
    "sns.heatmap(correlation, cmap='coolwarm');"
   ]
  },
  {
   "cell_type": "markdown",
   "metadata": {
    "id": "I4kKwQooY8Za"
   },
   "source": [
    "# **Работа с номинативными переменными**"
   ]
  },
  {
   "cell_type": "code",
   "execution_count": null,
   "metadata": {
    "colab": {
     "base_uri": "https://localhost:8080/"
    },
    "id": "ztQmJbpfL5-e",
    "outputId": "03b41c3b-fa18-4da8-83b4-fb0069eb481b"
   },
   "outputs": [],
   "source": [
    "def get_stat_dif(column):\n",
    "    \"\"\"Функция проверяет статистическую разницу распределения баллов за экзамен по номинативным признакам\"\"\"\n",
    "    \"\"\"Проводится тест Стьюдента\"\"\"\n",
    "    cols = mathmatics.loc[:, column].value_counts().index[:10]\n",
    "    combinations_all = list(combinations(cols, 2))\n",
    "    for comb in combinations_all:\n",
    "        if ttest_ind(mathmatics.loc[mathmatics.loc[:, column] == comb[0], 'score'],\n",
    "                     mathmatics.loc[mathmatics.loc[:, column] == comb[1], 'score']).pvalue \\\n",
    "                <= 0.05/len(combinations_all):  # Учли поправку Бонферони\n",
    "            print('Найдены статистически значимые различия для колонки', column)\n",
    "            break\n",
    "\n",
    "\n",
    "for col in ['school', 'sex', 'address', 'famsize', 'Pstatus', 'Mjob', 'Fjob',\n",
    "            'reason', 'guardian', 'schoolsup', 'famsup', 'paid', 'activities',\n",
    "            'nursery', 'higher', 'internet', 'romantic']:\n",
    "    get_stat_dif(col)"
   ]
  },
  {
   "cell_type": "code",
   "execution_count": null,
   "metadata": {
    "colab": {
     "base_uri": "https://localhost:8080/",
     "height": 204
    },
    "id": "ZmcFRmb5S7Lz",
    "outputId": "f1f79230-c0b2-4f4d-ab18-e00dd84a8aef"
   },
   "outputs": [],
   "source": [
    "# Оставляем переменные, которые оказывают влияние на результат экзамена, в датасете для дальнейшего построения модели.\n",
    "math_for_model = mathmatics.loc[:, [\n",
    "    'sex', 'address', 'Mjob', 'paid', 'higher', 'romantic', 'failures']]\n",
    "math_for_model.head()"
   ]
  },
  {
   "cell_type": "markdown",
   "metadata": {
    "id": "Hhe-bcnEHkJF"
   },
   "source": [
    "## **Выводы**\n",
    "1) В данных достаточно мало пустых значений, более 10% пропущенных значений содержится в столбцах **Pstatus** и **paid**.\n",
    "\n",
    "2) Единичные выбросы есть практических во всех переменных, однако самые явные были найдены в столбцах **Fedu** (образование отца), **famrel** (семейные отношения), а также, вероятно, в **absences** (пропуски занятий), что позволяет сделать вывод о том, что данные достаточно чистые.\n",
    "\n",
    "3) Согласно построенным графикам разброса значений, чем меньше внеучебных задач (**failures**), меньше пропусков (**absences**) тем выше балл экзамена (**score**).\n",
    "\n",
    "4) Согласно коробчатым диаграммам результаты экзамена могут зависеть:\n",
    "- от школы и пола (у мальчиков баллы немного выше)\n",
    "- места проживания (у городских выше)\n",
    "- родителей (выше у учеников, чьи матери имеют высшее образование, работают в здравоохранении; чьи отцы работают учителями)\n",
    "- количества внеучебных неудач (чем их ниже, тем выше балл)\n",
    "- желания получить высшее образование (выше балл)\n",
    "\n",
    "5) Обнаружена средняя отрицательная корреляция между **failures** (количеством внеучебных неудач) и **score** (-0,332), а также слабые отрицательные корреляции между **age** (возраст) и **score** (-0,149), **goout** (проведение времени с друзьями) и **score** (-0,122).\n",
    "Таким образом, чем меньше количество внеучебных неудач, возраст ученика и проведенное им время с друзьями, тем выше балл на экзамене по математике.\n",
    "\n",
    "6) Существует слабая положительная корреляция между **Medu** (образование матери) и **score** (0,212), **Fedu** (образование отца) и **score** (0,125), **studytime** (время на учебу помимо школы в неделю) и **score** (0,114).\n",
    "Таким образом, образование родителей, а также дополнительная учеба вне школы напрямую влиют на балл по математике. \n",
    "\n",
    "7) Самые важные параметры, которые предлагается использовать в дальнейшем для построения модели, это 'sex', 'address', 'Mjob', 'paid', 'higher', 'romantic', а также 'failures'."
   ]
  },
  {
   "cell_type": "code",
   "execution_count": null,
   "metadata": {},
   "outputs": [],
   "source": []
  }
 ],
 "metadata": {
  "colab": {
   "collapsed_sections": [
    "WzzZPGV8AusR",
    "iUC75ZieBvoX",
    "_d3LzCGuCgGM"
   ],
   "name": "Project-2.ipynb",
   "provenance": []
  },
  "kernelspec": {
   "display_name": "Python 3",
   "language": "python",
   "name": "python3"
  },
  "language_info": {
   "codemirror_mode": {
    "name": "ipython",
    "version": 3
   },
   "file_extension": ".py",
   "mimetype": "text/x-python",
   "name": "python",
   "nbconvert_exporter": "python",
   "pygments_lexer": "ipython3",
   "version": "3.8.5"
  }
 },
 "nbformat": 4,
 "nbformat_minor": 1
}
