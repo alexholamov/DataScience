{
 "cells": [
  {
   "cell_type": "code",
   "execution_count": 102,
   "metadata": {
    "colab": {
     "base_uri": "https://localhost:8080/"
    },
    "id": "e_CFhIM_L0gT",
    "outputId": "2eaa8437-5468-4a63-95fd-a5120d4b6b98"
   },
   "outputs": [
    {
     "name": "stdout",
     "output_type": "stream",
     "text": [
      "Загадано число от 1 до 100\n",
      "Ваш алгоритм угадывает число в среднем за следующее число попыток: 18.\n"
     ]
    }
   ],
   "source": [
    "import numpy as np\n",
    "\n",
    "number = np.random.randint(1,101)   # загадали число\n",
    "print(\"Загадано число от 1 до 100\")    # вывод текста пользователю перед запуском игры\n",
    "\n",
    "\n",
    "def game_core_v3(number):\n",
    "    \"\"\"Устанавливаем любое random число, а потом уменьшаем или увеличиваем его \n",
    "    в зависимости от условий кратности 2, 3, 5 или 7; больше или меньше загаданного числа).\n",
    "    Функция принимает загаданное число и возвращает число попыток\"\"\"\n",
    "    predict = np.random.randint(1,101)\n",
    "    count = 0                           # счетчик попыток\n",
    "    while number != predict:\n",
    "      count += 1\n",
    "\n",
    "      if number %2 == 0 and predict %2 == 0:\n",
    "        if number > predict: \n",
    "          predict += 2\n",
    "        else:\n",
    "          predict -= 2\n",
    "\n",
    "      elif number %3 == 0 and predict %3 == 0:\n",
    "        if number > predict: \n",
    "          predict += 3\n",
    "        elif number < predict: \n",
    "          predict -= 3\n",
    "\n",
    "      elif number %5 == 0 and predict %5 == 0:\n",
    "        if number > predict: \n",
    "          predict += 5\n",
    "        elif number < predict: \n",
    "          predict -= 5\n",
    "\n",
    "      elif number %7 == 0 and predict %7 == 0:\n",
    "        if number > predict: \n",
    "          predict += 7\n",
    "        elif number < predict: \n",
    "          predict -= 7\n",
    "\n",
    "      else:\n",
    "        if number > predict: \n",
    "          predict += 1\n",
    "        elif number < predict: \n",
    "          predict -= 1\n",
    "\n",
    "    return(count) # выход из цикла, если угадали\n",
    "\n",
    "\n",
    "def score_game(game_core):\n",
    "    '''Запускаем игру 1000 раз, чтобы узнать, как быстро игра угадывает число'''\n",
    "    count_ls = []\n",
    "    np.random.seed(1)  # фиксируем RANDOM SEED, чтобы ваш эксперимент был воспроизводим\n",
    "    random_array = np.random.randint(1,101, size=(1000))\n",
    "    \n",
    "    for number in random_array:\n",
    "        count_ls.append(game_core(number))\n",
    "    \n",
    "    score = int(np.mean(count_ls))\n",
    "    print(f\"Ваш алгоритм угадывает число в среднем за следующее число попыток: {score}.\")\n",
    "\n",
    "\n",
    "score_game(game_core_v3)"
   ]
  },
  {
   "cell_type": "code",
   "execution_count": 5,
   "metadata": {},
   "outputs": [
    {
     "name": "stdout",
     "output_type": "stream",
     "text": [
      "Your algorithm guesses the average number per 5 attempts.\n"
     ]
    },
    {
     "data": {
      "text/plain": [
       "5"
      ]
     },
     "execution_count": 5,
     "metadata": {},
     "output_type": "execute_result"
    }
   ],
   "source": [
    "import numpy as np\n",
    "\n",
    "def score_game(game_core):\n",
    "    '''We start the game 1000 times to find out how quickly the game guess the number'''\n",
    "    count_ls = []\n",
    "    np.random.seed(1)  # RANDOM SEED: the experiment could be reproducible\n",
    "    random_array = np.random.randint(1,101, size=(1000))\n",
    "    \n",
    "    for number in random_array:\n",
    "        count_ls.append(game_core(number))\n",
    "    \n",
    "    score = int(np.mean(count_ls))\n",
    "    print(f\"Your algorithm guesses the average number per {score} attempts.\")\n",
    "    return score\n",
    "\n",
    "\n",
    "number = np.random.randint(1,101)\n",
    "\n",
    "\n",
    "def game_core_v3(number):\n",
    "    \"\"\"As a predict we take always the middle of the interval.\n",
    "    In depend of the comparison the lowest limit (minimum) or the highest limit (maximum).\n",
    "    Will be appropriate moved, until the solution will be found\n",
    "    \"\"\"\n",
    "    count = 1\n",
    "    minimum = 1\n",
    "    maximum = 101\n",
    "    \n",
    "    predict = (maximum + minimum) // 2 \n",
    "    \n",
    "    while number != predict:\n",
    "        count += 1\n",
    "        if number > predict:\n",
    "            minimum = predict\n",
    "        else:\n",
    "            maximum = predict\n",
    "        \n",
    "        predict = (maximum + minimum) // 2\n",
    "            \n",
    "    return(count) # выход из цикла, если угадали\n",
    "\n",
    "\n",
    "score_game(game_core_v3)"
   ]
  },
  {
   "cell_type": "code",
   "execution_count": null,
   "metadata": {},
   "outputs": [],
   "source": []
  }
 ],
 "metadata": {
  "colab": {
   "collapsed_sections": [],
   "name": "module-0.ipynb",
   "provenance": []
  },
  "kernelspec": {
   "display_name": "Python 3",
   "language": "python",
   "name": "python3"
  },
  "language_info": {
   "codemirror_mode": {
    "name": "ipython",
    "version": 3
   },
   "file_extension": ".py",
   "mimetype": "text/x-python",
   "name": "python",
   "nbconvert_exporter": "python",
   "pygments_lexer": "ipython3",
   "version": "3.8.5"
  }
 },
 "nbformat": 4,
 "nbformat_minor": 1
}
