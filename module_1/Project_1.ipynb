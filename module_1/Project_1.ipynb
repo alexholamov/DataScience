{
 "cells": [
  {
   "cell_type": "code",
   "execution_count": 2,
   "metadata": {
    "_cell_guid": "b1076dfc-b9ad-4769-8c92-a6c4dae69d19",
    "_uuid": "8f2839f25d086af736a60e9eeb907d3b93b6e0e5",
    "colab": {},
    "colab_type": "code",
    "id": "U2D2gTdJVp90"
   },
   "outputs": [],
   "source": [
    "import numpy as np\n",
    "import pandas as pd\n",
    "import seaborn as sns\n",
    "import matplotlib.pyplot as plt\n",
    "from collections import Counter"
   ]
  },
  {
   "cell_type": "code",
   "execution_count": 3,
   "metadata": {
    "_cell_guid": "79c7e3d0-c299-4dcb-8224-4455121ee9b0",
    "_uuid": "d629ff2d2480ee46fbb7e2d37f6b5fab8052498a",
    "colab": {},
    "colab_type": "code",
    "id": "oyGfxL3eVp9-"
   },
   "outputs": [
    {
     "data": {
      "text/html": [
       "<div>\n",
       "<style scoped>\n",
       "    .dataframe tbody tr th:only-of-type {\n",
       "        vertical-align: middle;\n",
       "    }\n",
       "\n",
       "    .dataframe tbody tr th {\n",
       "        vertical-align: top;\n",
       "    }\n",
       "\n",
       "    .dataframe thead th {\n",
       "        text-align: right;\n",
       "    }\n",
       "</style>\n",
       "<table border=\"1\" class=\"dataframe\">\n",
       "  <thead>\n",
       "    <tr style=\"text-align: right;\">\n",
       "      <th></th>\n",
       "      <th>imdb_id</th>\n",
       "      <th>budget</th>\n",
       "      <th>revenue</th>\n",
       "      <th>original_title</th>\n",
       "      <th>cast</th>\n",
       "      <th>director</th>\n",
       "      <th>tagline</th>\n",
       "      <th>overview</th>\n",
       "      <th>runtime</th>\n",
       "      <th>genres</th>\n",
       "      <th>production_companies</th>\n",
       "      <th>release_date</th>\n",
       "      <th>vote_average</th>\n",
       "      <th>release_year</th>\n",
       "    </tr>\n",
       "  </thead>\n",
       "  <tbody>\n",
       "    <tr>\n",
       "      <th>537</th>\n",
       "      <td>tt0240462</td>\n",
       "      <td>70000000</td>\n",
       "      <td>176104344</td>\n",
       "      <td>Dr. Dolittle 2</td>\n",
       "      <td>Eddie Murphy|Kristen Wilson|Raven-SymonÃ©|Kyla...</td>\n",
       "      <td>Steve Carr</td>\n",
       "      <td>The doctor is in again.</td>\n",
       "      <td>Dr. John Dolittle the beloved doctor is back, ...</td>\n",
       "      <td>87</td>\n",
       "      <td>Comedy|Family|Romance|Fantasy</td>\n",
       "      <td>Twentieth Century Fox Film Corporation</td>\n",
       "      <td>6/22/2001</td>\n",
       "      <td>4.9</td>\n",
       "      <td>2001</td>\n",
       "    </tr>\n",
       "    <tr>\n",
       "      <th>1328</th>\n",
       "      <td>tt0397535</td>\n",
       "      <td>85000000</td>\n",
       "      <td>162242962</td>\n",
       "      <td>Memoirs of a Geisha</td>\n",
       "      <td>Zhang Ziyi|Gong Li|Youki Kudoh|Tsai Chin|Suzuk...</td>\n",
       "      <td>Rob Marshall</td>\n",
       "      <td>My world is as forbidden as it is fragile; wit...</td>\n",
       "      <td>A sweeping romantic epic set in Japan in the y...</td>\n",
       "      <td>145</td>\n",
       "      <td>Drama|History|Romance</td>\n",
       "      <td>DreamWorks SKG|Spyglass Entertainment|Columbia...</td>\n",
       "      <td>12/6/2005</td>\n",
       "      <td>7.1</td>\n",
       "      <td>2005</td>\n",
       "    </tr>\n",
       "    <tr>\n",
       "      <th>871</th>\n",
       "      <td>tt0120912</td>\n",
       "      <td>140000000</td>\n",
       "      <td>441818803</td>\n",
       "      <td>Men in Black II</td>\n",
       "      <td>Tommy Lee Jones|Will Smith|Rip Torn|Lara Flynn...</td>\n",
       "      <td>Barry Sonnenfeld</td>\n",
       "      <td>Same Planet. New Scum.</td>\n",
       "      <td>Kay and Jay reunite to provide our best, last ...</td>\n",
       "      <td>88</td>\n",
       "      <td>Action|Adventure|Comedy|Science Fiction</td>\n",
       "      <td>Columbia Pictures|Amblin Entertainment|Columbi...</td>\n",
       "      <td>7/3/2002</td>\n",
       "      <td>5.9</td>\n",
       "      <td>2002</td>\n",
       "    </tr>\n",
       "    <tr>\n",
       "      <th>211</th>\n",
       "      <td>tt3322940</td>\n",
       "      <td>6500000</td>\n",
       "      <td>255273813</td>\n",
       "      <td>Annabelle</td>\n",
       "      <td>Annabelle Wallis|Alfre Woodard|Eric Ladin|Tony...</td>\n",
       "      <td>John R. Leonetti</td>\n",
       "      <td>Before the Conjuring, there was Annabelle.</td>\n",
       "      <td>John Form has found the perfect gift for his e...</td>\n",
       "      <td>99</td>\n",
       "      <td>Horror</td>\n",
       "      <td>New Line Cinema|The Safran Company|Evergreen M...</td>\n",
       "      <td>10/2/2014</td>\n",
       "      <td>5.6</td>\n",
       "      <td>2014</td>\n",
       "    </tr>\n",
       "    <tr>\n",
       "      <th>1160</th>\n",
       "      <td>tt0289992</td>\n",
       "      <td>50000000</td>\n",
       "      <td>38955598</td>\n",
       "      <td>The Life of David Gale</td>\n",
       "      <td>Kevin Spacey|Kate Winslet|Laura Linney|Gabriel...</td>\n",
       "      <td>Alan Parker</td>\n",
       "      <td>The crime is clear. The truth is not.</td>\n",
       "      <td>A man against capital punishment is accused of...</td>\n",
       "      <td>130</td>\n",
       "      <td>Drama|Thriller|Crime</td>\n",
       "      <td>Universal Pictures|Intermedia Films|Saturn Films</td>\n",
       "      <td>2/21/2003</td>\n",
       "      <td>7.2</td>\n",
       "      <td>2003</td>\n",
       "    </tr>\n",
       "  </tbody>\n",
       "</table>\n",
       "</div>"
      ],
      "text/plain": [
       "        imdb_id     budget    revenue          original_title  \\\n",
       "537   tt0240462   70000000  176104344          Dr. Dolittle 2   \n",
       "1328  tt0397535   85000000  162242962     Memoirs of a Geisha   \n",
       "871   tt0120912  140000000  441818803         Men in Black II   \n",
       "211   tt3322940    6500000  255273813               Annabelle   \n",
       "1160  tt0289992   50000000   38955598  The Life of David Gale   \n",
       "\n",
       "                                                   cast          director  \\\n",
       "537   Eddie Murphy|Kristen Wilson|Raven-SymonÃ©|Kyla...        Steve Carr   \n",
       "1328  Zhang Ziyi|Gong Li|Youki Kudoh|Tsai Chin|Suzuk...      Rob Marshall   \n",
       "871   Tommy Lee Jones|Will Smith|Rip Torn|Lara Flynn...  Barry Sonnenfeld   \n",
       "211   Annabelle Wallis|Alfre Woodard|Eric Ladin|Tony...  John R. Leonetti   \n",
       "1160  Kevin Spacey|Kate Winslet|Laura Linney|Gabriel...       Alan Parker   \n",
       "\n",
       "                                                tagline  \\\n",
       "537                             The doctor is in again.   \n",
       "1328  My world is as forbidden as it is fragile; wit...   \n",
       "871                              Same Planet. New Scum.   \n",
       "211          Before the Conjuring, there was Annabelle.   \n",
       "1160              The crime is clear. The truth is not.   \n",
       "\n",
       "                                               overview  runtime  \\\n",
       "537   Dr. John Dolittle the beloved doctor is back, ...       87   \n",
       "1328  A sweeping romantic epic set in Japan in the y...      145   \n",
       "871   Kay and Jay reunite to provide our best, last ...       88   \n",
       "211   John Form has found the perfect gift for his e...       99   \n",
       "1160  A man against capital punishment is accused of...      130   \n",
       "\n",
       "                                       genres  \\\n",
       "537             Comedy|Family|Romance|Fantasy   \n",
       "1328                    Drama|History|Romance   \n",
       "871   Action|Adventure|Comedy|Science Fiction   \n",
       "211                                    Horror   \n",
       "1160                     Drama|Thriller|Crime   \n",
       "\n",
       "                                   production_companies release_date  \\\n",
       "537              Twentieth Century Fox Film Corporation    6/22/2001   \n",
       "1328  DreamWorks SKG|Spyglass Entertainment|Columbia...    12/6/2005   \n",
       "871   Columbia Pictures|Amblin Entertainment|Columbi...     7/3/2002   \n",
       "211   New Line Cinema|The Safran Company|Evergreen M...    10/2/2014   \n",
       "1160   Universal Pictures|Intermedia Films|Saturn Films    2/21/2003   \n",
       "\n",
       "      vote_average  release_year  \n",
       "537            4.9          2001  \n",
       "1328           7.1          2005  \n",
       "871            5.9          2002  \n",
       "211            5.6          2014  \n",
       "1160           7.2          2003  "
      ]
     },
     "execution_count": 3,
     "metadata": {},
     "output_type": "execute_result"
    }
   ],
   "source": [
    "data = pd.read_csv('movie_bd_v5.csv')\n",
    "data.sample(5)"
   ]
  },
  {
   "cell_type": "code",
   "execution_count": 4,
   "metadata": {
    "colab": {},
    "colab_type": "code",
    "id": "CoYUnagMVp-C"
   },
   "outputs": [
    {
     "data": {
      "text/html": [
       "<div>\n",
       "<style scoped>\n",
       "    .dataframe tbody tr th:only-of-type {\n",
       "        vertical-align: middle;\n",
       "    }\n",
       "\n",
       "    .dataframe tbody tr th {\n",
       "        vertical-align: top;\n",
       "    }\n",
       "\n",
       "    .dataframe thead th {\n",
       "        text-align: right;\n",
       "    }\n",
       "</style>\n",
       "<table border=\"1\" class=\"dataframe\">\n",
       "  <thead>\n",
       "    <tr style=\"text-align: right;\">\n",
       "      <th></th>\n",
       "      <th>budget</th>\n",
       "      <th>revenue</th>\n",
       "      <th>runtime</th>\n",
       "      <th>vote_average</th>\n",
       "      <th>release_year</th>\n",
       "    </tr>\n",
       "  </thead>\n",
       "  <tbody>\n",
       "    <tr>\n",
       "      <th>count</th>\n",
       "      <td>1.889000e+03</td>\n",
       "      <td>1.889000e+03</td>\n",
       "      <td>1889.000000</td>\n",
       "      <td>1889.000000</td>\n",
       "      <td>1889.000000</td>\n",
       "    </tr>\n",
       "    <tr>\n",
       "      <th>mean</th>\n",
       "      <td>5.431083e+07</td>\n",
       "      <td>1.553653e+08</td>\n",
       "      <td>109.658549</td>\n",
       "      <td>6.140762</td>\n",
       "      <td>2007.860773</td>\n",
       "    </tr>\n",
       "    <tr>\n",
       "      <th>std</th>\n",
       "      <td>4.858721e+07</td>\n",
       "      <td>2.146698e+08</td>\n",
       "      <td>18.017041</td>\n",
       "      <td>0.764763</td>\n",
       "      <td>4.468841</td>\n",
       "    </tr>\n",
       "    <tr>\n",
       "      <th>min</th>\n",
       "      <td>5.000000e+06</td>\n",
       "      <td>2.033165e+06</td>\n",
       "      <td>63.000000</td>\n",
       "      <td>3.300000</td>\n",
       "      <td>2000.000000</td>\n",
       "    </tr>\n",
       "    <tr>\n",
       "      <th>25%</th>\n",
       "      <td>2.000000e+07</td>\n",
       "      <td>3.456058e+07</td>\n",
       "      <td>97.000000</td>\n",
       "      <td>5.600000</td>\n",
       "      <td>2004.000000</td>\n",
       "    </tr>\n",
       "    <tr>\n",
       "      <th>50%</th>\n",
       "      <td>3.800000e+07</td>\n",
       "      <td>8.361541e+07</td>\n",
       "      <td>107.000000</td>\n",
       "      <td>6.100000</td>\n",
       "      <td>2008.000000</td>\n",
       "    </tr>\n",
       "    <tr>\n",
       "      <th>75%</th>\n",
       "      <td>7.200000e+07</td>\n",
       "      <td>1.782626e+08</td>\n",
       "      <td>120.000000</td>\n",
       "      <td>6.600000</td>\n",
       "      <td>2012.000000</td>\n",
       "    </tr>\n",
       "    <tr>\n",
       "      <th>max</th>\n",
       "      <td>3.800000e+08</td>\n",
       "      <td>2.781506e+09</td>\n",
       "      <td>214.000000</td>\n",
       "      <td>8.100000</td>\n",
       "      <td>2015.000000</td>\n",
       "    </tr>\n",
       "  </tbody>\n",
       "</table>\n",
       "</div>"
      ],
      "text/plain": [
       "             budget       revenue      runtime  vote_average  release_year\n",
       "count  1.889000e+03  1.889000e+03  1889.000000   1889.000000   1889.000000\n",
       "mean   5.431083e+07  1.553653e+08   109.658549      6.140762   2007.860773\n",
       "std    4.858721e+07  2.146698e+08    18.017041      0.764763      4.468841\n",
       "min    5.000000e+06  2.033165e+06    63.000000      3.300000   2000.000000\n",
       "25%    2.000000e+07  3.456058e+07    97.000000      5.600000   2004.000000\n",
       "50%    3.800000e+07  8.361541e+07   107.000000      6.100000   2008.000000\n",
       "75%    7.200000e+07  1.782626e+08   120.000000      6.600000   2012.000000\n",
       "max    3.800000e+08  2.781506e+09   214.000000      8.100000   2015.000000"
      ]
     },
     "execution_count": 4,
     "metadata": {},
     "output_type": "execute_result"
    }
   ],
   "source": [
    "data.describe()"
   ]
  },
  {
   "cell_type": "markdown",
   "metadata": {
    "colab_type": "text",
    "id": "DTIt7ezGVp-G"
   },
   "source": [
    "# Предобработка"
   ]
  },
  {
   "cell_type": "code",
   "execution_count": 5,
   "metadata": {
    "colab": {},
    "colab_type": "code",
    "id": "jNb40DwKVp-H"
   },
   "outputs": [],
   "source": [
    "answers = {} # создадим словарь для ответов\n",
    "\n",
    "### Функции:\n",
    "def month(release_date):\n",
    "    \"\"\"TASK 23 - Выбирает числовое значение месяца из даты формата mm/dd/yyyy, выводит название месяца\"\"\"\n",
    "    month_number = str(release_date).find('/')\n",
    "    month = int(str(release_date)[:month_number])\n",
    "    \n",
    "    calendar = {\n",
    "        1: \"Январь\",\n",
    "        2: \"Февраль\",\n",
    "        3: \"Март\",\n",
    "        4: \"Апрель\",\n",
    "        5: \"Май\",\n",
    "        6: \"Июнь\",\n",
    "        7: \"Июль\",\n",
    "        8: \"Август\",\n",
    "        9: \"Сентябрь\",\n",
    "        10: \"Октябрь\",\n",
    "        11: \"Ноябрь\",\n",
    "        12: \"Декабрь\"\n",
    "    }\n",
    "    \n",
    "    return calendar[month]\n",
    "\n",
    "\n",
    "def cast_func(cast_list):\n",
    "  \"\"\"TASK 27 - Разбивает актеров конкретного фильма по парам, оставляя уникальные пары\"\"\"\n",
    "  cast_together = []\n",
    "  for name_1 in cast_list:\n",
    "    for name_2 in cast_list:\n",
    "      if name_1 == name_2:\n",
    "        continue\n",
    "      cast_together += [(name_1, name_2)]\n",
    "  return cast_together\n",
    "        \n",
    "\n",
    "### тут другие ваши предобработки колонок например:\n",
    "\n",
    "# добавляется новый столбец с прибылью фильма:\n",
    "data['profit'] = data['revenue'] - data['budget']\n",
    "\n",
    "# Task 11-12 - учитываем все жанры, потому что есть фильмы, у которых их сразу несколько\n",
    "new_data_genres = data.copy() # копируем, датафрейм еще раз, чтобы не вносить изменения в копию оригинала\n",
    "new_data_genres['genres'] = new_data_genres['genres'].str.split('|')\n",
    "new_data_genres = new_data_genres.explode('genres')\n",
    "\n",
    "# Task 13 - последовательность действий с режиссерами точно такая же, как поступали с жанрами из Task 11-12 выше\n",
    "new_data_director = data.copy()\n",
    "new_data_director['director'] = new_data_director['director'].str.split('|')\n",
    "new_data_director = new_data_director.explode('director')\n",
    "\n",
    "# Task 14 - последовательность действий с режиссерами точно такая же, как поступали выше\n",
    "new_data_director_genre = new_data_director.copy()\n",
    "new_data_director_genre['genres'] = new_data_director_genre['genres'].str.split('|')\n",
    "new_data_director_genre = new_data_director_genre.explode('genres')\n",
    "\n",
    "# Tasks 15-16 - последовательность действий с актерами точно такая же, как поступали с жанрами из Task 11-12 выше\n",
    "new_data_cast = data.copy()\n",
    "new_data_cast['cast'] = new_data_cast['cast'].str.split('|')\n",
    "new_data_cast = new_data_cast.explode('cast')\n",
    "\n",
    "# Tasks 17 - последовательность действий, как выше\n",
    "new_data_cast_genre = new_data_cast.copy()\n",
    "new_data_cast_genre['genres'] = new_data_cast_genre['genres'].str.split('|')\n",
    "new_data_cast_genre = new_data_cast_genre.explode('genres')\n",
    "\n",
    "# Task 18,20 - последовательность действий с компаниями точно такая же, как поступали с жанрами из Task 11-12 выше\n",
    "new_data_company = data.copy()\n",
    "new_data_company['production_companies'] = new_data_company['production_companies'].str.split('|')\n",
    "new_data_company = new_data_company.explode('production_companies')\n",
    "\n",
    "# Task 21-22 - последовательность действий с месяцами точно такая же, как поступали с жанрами из Task 11-12 выше\n",
    "new_data_month = data.copy()\n",
    "new_data_month['release_date'] = new_data_month['release_date'].apply(month)\n",
    "new_data_month = new_data_month.explode('release_date')\n",
    "\n",
    "# Task 23 - готовим базу одновременно под режиссеров и месяцы по образцам из Tasks 14,21-22 выше\n",
    "new_data_director_month = new_data_director.copy()\n",
    "new_data_director_month['release_date'] = new_data_director_month['release_date'].apply(month)\n",
    "new_data_director_month = new_data_director_month.explode('release_date')\n",
    "\n",
    "# Task 24 - делаем дополнительный столбец с длиной символов названия каждого фильма, изменяя базу Task 18,20\n",
    "new_data_title = new_data_company.copy()\n",
    "new_data_title['title_length'] = new_data_title['original_title'].str.len()\n",
    "\n",
    "# Task 25 - делаем дополнительный столбец с числом промежутков между словами обзора фильма, изменяя базу Task 18,20\n",
    "new_data_company_overview = new_data_company.copy()\n",
    "new_data_company_overview['overview_number'] = new_data_company_overview['overview'].str.count(' ')\n",
    "new_data_company_overview = new_data_company_overview.explode('overview_number')\n",
    "\n",
    "# Task 27 - применяем функцию к актерам\n",
    "new_data_casts = new_data_cast.copy()\n",
    "new_data_casts['cast'] = new_data_casts['cast'].apply(cast_func)\n",
    "new_data_casts = new_data_casts.explode('cast')\n",
    "\n",
    "\n",
    "#the time given in the dataset is in string format.\n",
    "#So we need to change this in datetime format\n",
    "# ..."
   ]
  },
  {
   "cell_type": "markdown",
   "metadata": {
    "colab_type": "text",
    "id": "YxZaH-nPVp-L"
   },
   "source": [
    "# 1. У какого фильма из списка самый большой бюджет?"
   ]
  },
  {
   "cell_type": "markdown",
   "metadata": {
    "colab_type": "text",
    "id": "Nd-G5gX6Vp-M"
   },
   "source": [
    "Использовать варианты ответов в коде решения запрещено.    \n",
    "Вы думаете и в жизни у вас будут варианты ответов?)"
   ]
  },
  {
   "cell_type": "code",
   "execution_count": 130,
   "metadata": {
    "colab": {},
    "colab_type": "code",
    "id": "uVnXAY5RVp-O"
   },
   "outputs": [],
   "source": [
    "# в словарь вставляем номер вопроса и ваш ответ на него\n",
    "# Пример: \n",
    "answers['1'] = '2. Spider-Man 3 (tt0413300)'\n",
    "\n",
    "# запишите свой вариант ответа\n",
    "answers['1'] = '5. Pirates of the Caribbean: On Stranger Tides (tt1298650)'\n",
    "# если ответили верно, можете добавить комментарий со значком \"+\""
   ]
  },
  {
   "cell_type": "code",
   "execution_count": 245,
   "metadata": {
    "colab": {},
    "colab_type": "code",
    "id": "dZwb3m28Vp-S"
   },
   "outputs": [
    {
     "name": "stdout",
     "output_type": "stream",
     "text": [
      "У фильма \"Pirates of the Caribbean: On Stranger Tides\" самый большой бюджет.\n"
     ]
    }
   ],
   "source": [
    "# тут пишем ваш код для решения данного вопроса:\n",
    "title_1 = data.loc[data.budget == data.budget.max()].original_title.iloc[0]\n",
    "print(f'У фильма \"{title_1}\" самый большой бюджет.')"
   ]
  },
  {
   "cell_type": "markdown",
   "metadata": {
    "colab_type": "text",
    "id": "K7L3nbRXVp-X"
   },
   "source": [
    "ВАРИАНТ 2"
   ]
  },
  {
   "cell_type": "code",
   "execution_count": 132,
   "metadata": {
    "colab": {},
    "colab_type": "code",
    "collapsed": true,
    "id": "OGaoQI7rVp-X"
   },
   "outputs": [
    {
     "data": {
      "text/html": [
       "<div>\n",
       "<style scoped>\n",
       "    .dataframe tbody tr th:only-of-type {\n",
       "        vertical-align: middle;\n",
       "    }\n",
       "\n",
       "    .dataframe tbody tr th {\n",
       "        vertical-align: top;\n",
       "    }\n",
       "\n",
       "    .dataframe thead th {\n",
       "        text-align: right;\n",
       "    }\n",
       "</style>\n",
       "<table border=\"1\" class=\"dataframe\">\n",
       "  <thead>\n",
       "    <tr style=\"text-align: right;\">\n",
       "      <th></th>\n",
       "      <th>imdb_id</th>\n",
       "      <th>budget</th>\n",
       "      <th>revenue</th>\n",
       "      <th>original_title</th>\n",
       "      <th>cast</th>\n",
       "      <th>director</th>\n",
       "      <th>tagline</th>\n",
       "      <th>overview</th>\n",
       "      <th>runtime</th>\n",
       "      <th>genres</th>\n",
       "      <th>production_companies</th>\n",
       "      <th>release_date</th>\n",
       "      <th>vote_average</th>\n",
       "      <th>release_year</th>\n",
       "      <th>profit</th>\n",
       "    </tr>\n",
       "  </thead>\n",
       "  <tbody>\n",
       "    <tr>\n",
       "      <th>723</th>\n",
       "      <td>tt1298650</td>\n",
       "      <td>380000000</td>\n",
       "      <td>1021683000</td>\n",
       "      <td>Pirates of the Caribbean: On Stranger Tides</td>\n",
       "      <td>Johnny Depp|PenÃ©lope Cruz|Geoffrey Rush|Ian M...</td>\n",
       "      <td>Rob Marshall</td>\n",
       "      <td>Live Forever Or Die Trying.</td>\n",
       "      <td>Captain Jack Sparrow crosses paths with a woma...</td>\n",
       "      <td>136</td>\n",
       "      <td>Adventure|Action|Fantasy</td>\n",
       "      <td>Walt Disney Pictures|Jerry Bruckheimer Films|M...</td>\n",
       "      <td>5/11/2011</td>\n",
       "      <td>6.3</td>\n",
       "      <td>2011</td>\n",
       "      <td>641683000</td>\n",
       "    </tr>\n",
       "  </tbody>\n",
       "</table>\n",
       "</div>"
      ],
      "text/plain": [
       "       imdb_id     budget     revenue  \\\n",
       "723  tt1298650  380000000  1021683000   \n",
       "\n",
       "                                  original_title  \\\n",
       "723  Pirates of the Caribbean: On Stranger Tides   \n",
       "\n",
       "                                                  cast      director  \\\n",
       "723  Johnny Depp|PenÃ©lope Cruz|Geoffrey Rush|Ian M...  Rob Marshall   \n",
       "\n",
       "                         tagline  \\\n",
       "723  Live Forever Or Die Trying.   \n",
       "\n",
       "                                              overview  runtime  \\\n",
       "723  Captain Jack Sparrow crosses paths with a woma...      136   \n",
       "\n",
       "                       genres  \\\n",
       "723  Adventure|Action|Fantasy   \n",
       "\n",
       "                                  production_companies release_date  \\\n",
       "723  Walt Disney Pictures|Jerry Bruckheimer Films|M...    5/11/2011   \n",
       "\n",
       "     vote_average  release_year     profit  \n",
       "723           6.3          2011  641683000  "
      ]
     },
     "execution_count": 132,
     "metadata": {},
     "output_type": "execute_result"
    }
   ],
   "source": [
    "# можно добавлять разные варианты решения\n",
    "data[data.budget == data.budget.max()]"
   ]
  },
  {
   "cell_type": "markdown",
   "metadata": {
    "colab_type": "text",
    "id": "FNRbbI3vVp-c"
   },
   "source": [
    "# 2. Какой из фильмов самый длительный (в минутах)?"
   ]
  },
  {
   "cell_type": "code",
   "execution_count": 133,
   "metadata": {
    "colab": {},
    "colab_type": "code",
    "id": "vHAoEXNTVp-d"
   },
   "outputs": [],
   "source": [
    "# думаю логику работы с этим словарем вы уже поняли, \n",
    "# поэтому не буду больше его дублировать\n",
    "answers['2'] = '2. Gods and Generals (tt0279111)'"
   ]
  },
  {
   "cell_type": "code",
   "execution_count": 237,
   "metadata": {
    "colab": {},
    "colab_type": "code",
    "id": "ot-VX2XrVp-g"
   },
   "outputs": [
    {
     "name": "stdout",
     "output_type": "stream",
     "text": [
      "\"Gods and Generals\" - самый длительный в минутах фильм\n"
     ]
    }
   ],
   "source": [
    "title_2 = data[data.runtime == data.runtime.max()].original_title.iloc[0]\n",
    "print(f'\"{title_2}\" - самый длительный в минутах фильм')"
   ]
  },
  {
   "cell_type": "code",
   "execution_count": 202,
   "metadata": {},
   "outputs": [
    {
     "data": {
      "text/html": [
       "<div>\n",
       "<style scoped>\n",
       "    .dataframe tbody tr th:only-of-type {\n",
       "        vertical-align: middle;\n",
       "    }\n",
       "\n",
       "    .dataframe tbody tr th {\n",
       "        vertical-align: top;\n",
       "    }\n",
       "\n",
       "    .dataframe thead th {\n",
       "        text-align: right;\n",
       "    }\n",
       "</style>\n",
       "<table border=\"1\" class=\"dataframe\">\n",
       "  <thead>\n",
       "    <tr style=\"text-align: right;\">\n",
       "      <th></th>\n",
       "      <th>imdb_id</th>\n",
       "      <th>budget</th>\n",
       "      <th>revenue</th>\n",
       "      <th>original_title</th>\n",
       "      <th>cast</th>\n",
       "      <th>director</th>\n",
       "      <th>tagline</th>\n",
       "      <th>overview</th>\n",
       "      <th>runtime</th>\n",
       "      <th>genres</th>\n",
       "      <th>production_companies</th>\n",
       "      <th>release_date</th>\n",
       "      <th>vote_average</th>\n",
       "      <th>release_year</th>\n",
       "      <th>profit</th>\n",
       "    </tr>\n",
       "  </thead>\n",
       "  <tbody>\n",
       "    <tr>\n",
       "      <th>1157</th>\n",
       "      <td>tt0279111</td>\n",
       "      <td>56000000</td>\n",
       "      <td>12923936</td>\n",
       "      <td>Gods and Generals</td>\n",
       "      <td>Stephen Lang|Jeff Daniels|Robert Duvall|Kevin ...</td>\n",
       "      <td>Ronald F. Maxwell</td>\n",
       "      <td>The nations heart was touched by...</td>\n",
       "      <td>The film centers mostly around the personal an...</td>\n",
       "      <td>214</td>\n",
       "      <td>Drama|History|War</td>\n",
       "      <td>Turner Pictures|Antietam Filmworks</td>\n",
       "      <td>2/21/2003</td>\n",
       "      <td>5.8</td>\n",
       "      <td>2003</td>\n",
       "      <td>-43076064</td>\n",
       "    </tr>\n",
       "  </tbody>\n",
       "</table>\n",
       "</div>"
      ],
      "text/plain": [
       "        imdb_id    budget   revenue     original_title  \\\n",
       "1157  tt0279111  56000000  12923936  Gods and Generals   \n",
       "\n",
       "                                                   cast           director  \\\n",
       "1157  Stephen Lang|Jeff Daniels|Robert Duvall|Kevin ...  Ronald F. Maxwell   \n",
       "\n",
       "                                  tagline  \\\n",
       "1157  The nations heart was touched by...   \n",
       "\n",
       "                                               overview  runtime  \\\n",
       "1157  The film centers mostly around the personal an...      214   \n",
       "\n",
       "                 genres                production_companies release_date  \\\n",
       "1157  Drama|History|War  Turner Pictures|Antietam Filmworks    2/21/2003   \n",
       "\n",
       "      vote_average  release_year    profit  \n",
       "1157           5.8          2003 -43076064  "
      ]
     },
     "execution_count": 202,
     "metadata": {},
     "output_type": "execute_result"
    }
   ],
   "source": [
    "data[data.runtime == data.runtime.max()]"
   ]
  },
  {
   "cell_type": "markdown",
   "metadata": {
    "colab_type": "text",
    "id": "bapLlpW8Vp-k"
   },
   "source": [
    "# 3. Какой из фильмов самый короткий (в минутах)?\n",
    "\n",
    "\n",
    "\n"
   ]
  },
  {
   "cell_type": "code",
   "execution_count": 136,
   "metadata": {
    "colab": {},
    "colab_type": "code",
    "id": "YBxaSHuAVp-l"
   },
   "outputs": [],
   "source": [
    "answers['3'] = '3. Winnie the Pooh (tt1449283)'"
   ]
  },
  {
   "cell_type": "code",
   "execution_count": 137,
   "metadata": {},
   "outputs": [
    {
     "data": {
      "text/html": [
       "<div>\n",
       "<style scoped>\n",
       "    .dataframe tbody tr th:only-of-type {\n",
       "        vertical-align: middle;\n",
       "    }\n",
       "\n",
       "    .dataframe tbody tr th {\n",
       "        vertical-align: top;\n",
       "    }\n",
       "\n",
       "    .dataframe thead th {\n",
       "        text-align: right;\n",
       "    }\n",
       "</style>\n",
       "<table border=\"1\" class=\"dataframe\">\n",
       "  <thead>\n",
       "    <tr style=\"text-align: right;\">\n",
       "      <th></th>\n",
       "      <th>imdb_id</th>\n",
       "      <th>budget</th>\n",
       "      <th>revenue</th>\n",
       "      <th>original_title</th>\n",
       "      <th>cast</th>\n",
       "      <th>director</th>\n",
       "      <th>tagline</th>\n",
       "      <th>overview</th>\n",
       "      <th>runtime</th>\n",
       "      <th>genres</th>\n",
       "      <th>production_companies</th>\n",
       "      <th>release_date</th>\n",
       "      <th>vote_average</th>\n",
       "      <th>release_year</th>\n",
       "      <th>profit</th>\n",
       "    </tr>\n",
       "  </thead>\n",
       "  <tbody>\n",
       "    <tr>\n",
       "      <th>768</th>\n",
       "      <td>tt1449283</td>\n",
       "      <td>30000000</td>\n",
       "      <td>14460000</td>\n",
       "      <td>Winnie the Pooh</td>\n",
       "      <td>Jim Cummings|Travis Oates|Jim Cummings|Bud Luc...</td>\n",
       "      <td>Stephen Anderson|Don Hall</td>\n",
       "      <td>Oh Pooh.</td>\n",
       "      <td>During an ordinary day in Hundred Acre Wood, W...</td>\n",
       "      <td>63</td>\n",
       "      <td>Animation|Family</td>\n",
       "      <td>Walt Disney Pictures|Walt Disney Animation Stu...</td>\n",
       "      <td>4/13/2011</td>\n",
       "      <td>6.8</td>\n",
       "      <td>2011</td>\n",
       "      <td>-15540000</td>\n",
       "    </tr>\n",
       "  </tbody>\n",
       "</table>\n",
       "</div>"
      ],
      "text/plain": [
       "       imdb_id    budget   revenue   original_title  \\\n",
       "768  tt1449283  30000000  14460000  Winnie the Pooh   \n",
       "\n",
       "                                                  cast  \\\n",
       "768  Jim Cummings|Travis Oates|Jim Cummings|Bud Luc...   \n",
       "\n",
       "                      director   tagline  \\\n",
       "768  Stephen Anderson|Don Hall  Oh Pooh.   \n",
       "\n",
       "                                              overview  runtime  \\\n",
       "768  During an ordinary day in Hundred Acre Wood, W...       63   \n",
       "\n",
       "               genres                               production_companies  \\\n",
       "768  Animation|Family  Walt Disney Pictures|Walt Disney Animation Stu...   \n",
       "\n",
       "    release_date  vote_average  release_year    profit  \n",
       "768    4/13/2011           6.8          2011 -15540000  "
      ]
     },
     "execution_count": 137,
     "metadata": {},
     "output_type": "execute_result"
    }
   ],
   "source": [
    "data.loc[data.runtime == data.runtime.min()]"
   ]
  },
  {
   "cell_type": "code",
   "execution_count": 240,
   "metadata": {},
   "outputs": [
    {
     "name": "stdout",
     "output_type": "stream",
     "text": [
      "\"Winnie the Pooh\" - самый короткий в минутах фильм среди представленных\n"
     ]
    }
   ],
   "source": [
    "title_3 = data[data.runtime == data.runtime.min()].original_title.iloc[0]\n",
    "print(f'\"{title_3}\" - самый короткий в минутах фильм среди представленных')"
   ]
  },
  {
   "cell_type": "markdown",
   "metadata": {
    "colab_type": "text",
    "id": "TfQbxbfNVp-p"
   },
   "source": [
    "# 4. Какова средняя длительность фильмов?\n"
   ]
  },
  {
   "cell_type": "code",
   "execution_count": 139,
   "metadata": {},
   "outputs": [],
   "source": [
    "answers['4'] = '2. 110'"
   ]
  },
  {
   "cell_type": "code",
   "execution_count": 213,
   "metadata": {
    "colab": {},
    "colab_type": "code",
    "id": "5K6dKZYVVp-q"
   },
   "outputs": [
    {
     "name": "stdout",
     "output_type": "stream",
     "text": [
      "Средняя длительность фильмов составляет 110 минут\n"
     ]
    }
   ],
   "source": [
    "time_4 = round(data['runtime'].mean())\n",
    "print(f'Средняя длительность фильмов составляет {time_4} минут')"
   ]
  },
  {
   "cell_type": "markdown",
   "metadata": {
    "colab_type": "text",
    "id": "r5TvbnT_Vp-u"
   },
   "source": [
    "# 5. Каково медианное значение длительности фильмов? "
   ]
  },
  {
   "cell_type": "code",
   "execution_count": 141,
   "metadata": {
    "colab": {},
    "colab_type": "code",
    "id": "iBROplKnVp-v"
   },
   "outputs": [],
   "source": [
    "answers['5'] = '1. 107'"
   ]
  },
  {
   "cell_type": "code",
   "execution_count": 214,
   "metadata": {},
   "outputs": [
    {
     "name": "stdout",
     "output_type": "stream",
     "text": [
      "Медианное значение длительности фильмов - 107 минут\n"
     ]
    }
   ],
   "source": [
    "time_5 = round(data['runtime'].median())\n",
    "print(f'Медианное значение длительности фильмов - {time_5} минут')"
   ]
  },
  {
   "cell_type": "markdown",
   "metadata": {
    "colab_type": "text",
    "id": "39P-deDSVp-y"
   },
   "source": [
    "# 6. Какой самый прибыльный фильм?\n",
    "#### Внимание! Здесь и далее под «прибылью» или «убытками» понимается разность между сборами и бюджетом фильма. (прибыль = сборы - бюджет) в нашем датасете это будет (profit = revenue - budget) "
   ]
  },
  {
   "cell_type": "code",
   "execution_count": 143,
   "metadata": {
    "colab": {},
    "colab_type": "code",
    "id": "UYZh4T9WVp-y"
   },
   "outputs": [],
   "source": [
    "# лучше код получения столбца profit вынести в Предобработку что в начале\n",
    "answers['6'] = '5. Avatar (tt0499549)'"
   ]
  },
  {
   "cell_type": "code",
   "execution_count": 10,
   "metadata": {},
   "outputs": [
    {
     "name": "stdout",
     "output_type": "stream",
     "text": [
      "\"Avatar\" - самый прибыльный фильм. Его уникальный номер в базе - \"tt0499549\".\n"
     ]
    }
   ],
   "source": [
    "title_6 = data[['imdb_id', 'original_title']][data['profit'] == data['profit']\\\n",
    "                                              .max()].original_title.iloc[0]\n",
    "id_6 = data[['imdb_id', 'original_title']][data['profit'] == data['profit']\\\n",
    "                                           .max()].imdb_id.iloc[0]\n",
    "print(f'\"{title_6}\" - самый прибыльный фильм. Его уникальный номер в базе - \"{id_6}\".')"
   ]
  },
  {
   "cell_type": "markdown",
   "metadata": {
    "colab_type": "text",
    "id": "M99JmIX4Vp-2"
   },
   "source": [
    "# 7. Какой фильм самый убыточный? "
   ]
  },
  {
   "cell_type": "code",
   "execution_count": 145,
   "metadata": {
    "colab": {},
    "colab_type": "code",
    "id": "w-D2m4XPVp-3"
   },
   "outputs": [],
   "source": [
    "answers['7'] = '5. The Lone Ranger (tt1210819)'"
   ]
  },
  {
   "cell_type": "code",
   "execution_count": 11,
   "metadata": {},
   "outputs": [
    {
     "name": "stdout",
     "output_type": "stream",
     "text": [
      "А вот фильм \"The Lone Ranger\" - самый убыточный. Его уникальный номер в базе - \"tt1210819\".\n"
     ]
    }
   ],
   "source": [
    "title_7 = data[['imdb_id', 'original_title']][data['profit'] == data['profit'].min()]\\\n",
    "                                                            .original_title.iloc[0]\n",
    "id_7 = data[['imdb_id', 'original_title']][data['profit'] == data['profit'].min()]\\\n",
    "                                                                    .imdb_id.iloc[0]\n",
    "print(f'А вот фильм \"{title_7}\" - самый убыточный. Его уникальный номер в базе - \"{id_7}\".')"
   ]
  },
  {
   "cell_type": "markdown",
   "metadata": {
    "colab_type": "text",
    "id": "wEOM5ERVVp-6"
   },
   "source": [
    "# 8. У скольких фильмов из датасета объем сборов оказался выше бюджета?"
   ]
  },
  {
   "cell_type": "code",
   "execution_count": 147,
   "metadata": {
    "colab": {},
    "colab_type": "code",
    "id": "y00_7HD6Vp-7"
   },
   "outputs": [],
   "source": [
    "answers['8'] = '1. 1478'"
   ]
  },
  {
   "cell_type": "code",
   "execution_count": 252,
   "metadata": {},
   "outputs": [
    {
     "name": "stdout",
     "output_type": "stream",
     "text": [
      "У 1478 фильмов объем сборов оказался выше бюджета.\n"
     ]
    }
   ],
   "source": [
    "num_8 = data[data['revenue'] > data['budget']]['imdb_id'].nunique()\n",
    "print(f'У {num_8} фильмов объем сборов оказался выше бюджета.')"
   ]
  },
  {
   "cell_type": "code",
   "execution_count": 149,
   "metadata": {},
   "outputs": [
    {
     "data": {
      "text/plain": [
       "1478"
      ]
     },
     "execution_count": 149,
     "metadata": {},
     "output_type": "execute_result"
    }
   ],
   "source": [
    "data[data['revenue'] > data['budget']].imdb_id.nunique()"
   ]
  },
  {
   "cell_type": "markdown",
   "metadata": {
    "colab_type": "text",
    "id": "xhpspA9KVp_A"
   },
   "source": [
    "# 9. Какой фильм оказался самым кассовым в 2008 году?"
   ]
  },
  {
   "cell_type": "code",
   "execution_count": 150,
   "metadata": {
    "colab": {},
    "colab_type": "code",
    "id": "MoUyQr9RVp_B"
   },
   "outputs": [],
   "source": [
    "answers['9'] = '4. The Dark Knight (tt0468569)'"
   ]
  },
  {
   "cell_type": "code",
   "execution_count": 12,
   "metadata": {},
   "outputs": [
    {
     "name": "stdout",
     "output_type": "stream",
     "text": [
      "В 2008 году самым кассовым фильмом оказался \"The Dark Knight\". Его уникальный номер в базе - \"tt0468569\".\n"
     ]
    }
   ],
   "source": [
    "inf_9 = data[data.release_year == 2008].sort_values(by='revenue', ascending=False)\\\n",
    "                                            [['original_title', 'imdb_id']].iloc[0][:2]\n",
    "print(f'В 2008 году самым кассовым фильмом оказался \"{inf_9[0]}\". \\\n",
    "Его уникальный номер в базе - \"{inf_9[1]}\".')"
   ]
  },
  {
   "cell_type": "markdown",
   "metadata": {
    "colab_type": "text",
    "id": "Zi4hDKidVp_F"
   },
   "source": [
    "# 10. Самый убыточный фильм за период с 2012 по 2014 г. (включительно)?\n"
   ]
  },
  {
   "cell_type": "code",
   "execution_count": 152,
   "metadata": {
    "colab": {},
    "colab_type": "code",
    "id": "XqyRmufJVp_F"
   },
   "outputs": [],
   "source": [
    "answers['10'] = '5. The Lone Ranger (tt1210819)'"
   ]
  },
  {
   "cell_type": "code",
   "execution_count": 6,
   "metadata": {},
   "outputs": [
    {
     "name": "stdout",
     "output_type": "stream",
     "text": [
      "За период с 2012 по 2014 гг. самым убыточным фильмом оказался \"The Lone Ranger\". Его уникальный номер в базе - \"tt1210819\".\n"
     ]
    }
   ],
   "source": [
    "inf_10 = data[data.release_year.isin([2012,2013,2014])].sort_values(by='profit', ascending=True)\\\n",
    "                                                            [['original_title', 'imdb_id']].iloc[0][:2]\n",
    "print(f'За период с 2012 по 2014 гг. самым убыточным фильмом оказался \"{inf_10[0]}\". \\\n",
    "Его уникальный номер в базе - \"{inf_10[1]}\".')"
   ]
  },
  {
   "cell_type": "markdown",
   "metadata": {
    "colab_type": "text",
    "id": "EA7Sa9dkVp_I"
   },
   "source": [
    "# 11. Какого жанра фильмов больше всего?"
   ]
  },
  {
   "cell_type": "code",
   "execution_count": 154,
   "metadata": {},
   "outputs": [],
   "source": [
    "answers['11'] = '3. Drama'"
   ]
  },
  {
   "cell_type": "code",
   "execution_count": 263,
   "metadata": {
    "colab": {},
    "colab_type": "code",
    "id": "zsJAwJ8QVp_J"
   },
   "outputs": [
    {
     "name": "stdout",
     "output_type": "stream",
     "text": [
      "Больше всего в базе данных фильмов жанра \"Drama\".\n"
     ]
    }
   ],
   "source": [
    "# эту задачу тоже можно решать разными подходами, попробуй реализовать разные варианты\n",
    "# если будешь добавлять функцию - выноси ее в предобработку что в начале\n",
    "genres_11 = new_data_genres.genres.value_counts().index[0]\n",
    "print(f'Больше всего в базе данных фильмов жанра \"{genres_11}\".')"
   ]
  },
  {
   "cell_type": "markdown",
   "metadata": {
    "colab_type": "text",
    "id": "Ax6g2C8SVp_M"
   },
   "source": [
    "ВАРИАНТ 2"
   ]
  },
  {
   "cell_type": "code",
   "execution_count": 262,
   "metadata": {},
   "outputs": [
    {
     "data": {
      "text/plain": [
       "'Drama'"
      ]
     },
     "metadata": {},
     "output_type": "display_data"
    }
   ],
   "source": [
    "display(new_data_genres.genres.value_counts().index[0])"
   ]
  },
  {
   "cell_type": "markdown",
   "metadata": {
    "colab_type": "text",
    "id": "T9_bPWpkVp_Q"
   },
   "source": [
    "# 12. Фильмы какого жанра чаще всего становятся прибыльными? "
   ]
  },
  {
   "cell_type": "code",
   "execution_count": 156,
   "metadata": {
    "colab": {},
    "colab_type": "code",
    "id": "Tmt8MaK1Vp_R"
   },
   "outputs": [],
   "source": [
    "answers['12'] = '1. Drama'"
   ]
  },
  {
   "cell_type": "code",
   "execution_count": 261,
   "metadata": {},
   "outputs": [
    {
     "name": "stdout",
     "output_type": "stream",
     "text": [
      "Чаще всего фильмы жанра \"Drama\" становятся прибыльными.\n"
     ]
    }
   ],
   "source": [
    "genres_12 = new_data_genres[new_data_genres['profit'] > 0].genres.value_counts().index[0]\n",
    "print(f'Чаще всего фильмы жанра \"{genres_12}\" становятся прибыльными.')"
   ]
  },
  {
   "cell_type": "markdown",
   "metadata": {
    "colab_type": "text",
    "id": "0F23bgsDVp_U"
   },
   "source": [
    "# 13. У какого режиссера самые большие суммарные кассовые сборы?"
   ]
  },
  {
   "cell_type": "code",
   "execution_count": 158,
   "metadata": {
    "colab": {},
    "colab_type": "code",
    "id": "K6Z3J8ygVp_X"
   },
   "outputs": [],
   "source": [
    "answers['13'] = '5. Peter Jackson'"
   ]
  },
  {
   "cell_type": "code",
   "execution_count": 313,
   "metadata": {},
   "outputs": [
    {
     "name": "stdout",
     "output_type": "stream",
     "text": [
      "Самые большие суммарные кассовые сборы у режиссера Peter Jackson.\n"
     ]
    }
   ],
   "source": [
    "# смотри ПРЕДОБРАБОТКУ датафрейма\n",
    "director_13 = new_data_director.groupby(['director']).revenue.sum()\\\n",
    "                                .sort_values(ascending=False).index[0]\n",
    "print(f'Самые большие суммарные кассовые сборы у режиссера {director_13}.')"
   ]
  },
  {
   "cell_type": "markdown",
   "metadata": {
    "colab_type": "text",
    "id": "PsYC9FgRVp_a"
   },
   "source": [
    "# 14. Какой режисер снял больше всего фильмов в стиле Action?"
   ]
  },
  {
   "cell_type": "code",
   "execution_count": 160,
   "metadata": {
    "colab": {},
    "colab_type": "code",
    "id": "wd2M-wHeVp_b"
   },
   "outputs": [],
   "source": [
    "answers['14'] = '3. Robert Rodriguez'"
   ]
  },
  {
   "cell_type": "code",
   "execution_count": 266,
   "metadata": {},
   "outputs": [
    {
     "name": "stdout",
     "output_type": "stream",
     "text": [
      "Robert Rodriguez снял больше всего фильмов в стиле Action.\n"
     ]
    }
   ],
   "source": [
    "# смотри ПРЕДОБРАБОТКУ датафрейма\n",
    "director_14 = new_data_director_genre[new_data_director_genre['genres'] == 'Action']\\\n",
    "        .groupby('director').imdb_id.nunique().sort_values(ascending=False).index[0]\n",
    "print(f'{director_14} снял больше всего фильмов в стиле Action.')"
   ]
  },
  {
   "cell_type": "markdown",
   "metadata": {
    "colab_type": "text",
    "id": "PQ0KciD7Vp_f"
   },
   "source": [
    "# 15. Фильмы с каким актером принесли самые высокие кассовые сборы в 2012 году? "
   ]
  },
  {
   "cell_type": "code",
   "execution_count": 162,
   "metadata": {
    "colab": {},
    "colab_type": "code",
    "id": "aga62oeKVp_g"
   },
   "outputs": [],
   "source": [
    "answers['15'] = '3. Chris Hemsworth'"
   ]
  },
  {
   "cell_type": "code",
   "execution_count": 267,
   "metadata": {},
   "outputs": [
    {
     "name": "stdout",
     "output_type": "stream",
     "text": [
      "Фильмы с Chris Hemsworth принесли самые высокие кассовые сборы в 2012 году.\n"
     ]
    }
   ],
   "source": [
    "# смотри ПРЕДОБРАБОТКУ датафрейма\n",
    "cast_15 = new_data_cast[new_data_cast['release_year'] == 2012]\\\n",
    "        .groupby('cast').revenue.sum().sort_values(ascending=False).index[0]\n",
    "print(f'Фильмы с {cast_15} принесли самые высокие кассовые сборы в 2012 году.')"
   ]
  },
  {
   "cell_type": "markdown",
   "metadata": {
    "colab_type": "text",
    "id": "mWHyyL7QVp_j"
   },
   "source": [
    "# 16. Какой актер снялся в большем количестве высокобюджетных фильмов?"
   ]
  },
  {
   "cell_type": "code",
   "execution_count": 164,
   "metadata": {
    "colab": {},
    "colab_type": "code",
    "id": "qQtmHKTFVp_k"
   },
   "outputs": [],
   "source": [
    "answers['16'] = '3. Matt Damon'"
   ]
  },
  {
   "cell_type": "code",
   "execution_count": 314,
   "metadata": {},
   "outputs": [
    {
     "name": "stdout",
     "output_type": "stream",
     "text": [
      "Matt Damon снялся в большем количестве высокобюджетных фильмов.\n"
     ]
    }
   ],
   "source": [
    "# смотри ПРЕДОБРАБОТКУ датафрейма\n",
    "cast_16 = new_data_cast[new_data_cast['budget'] > new_data_cast['budget'].mean()]\\\n",
    "                .groupby('cast').imdb_id.nunique().sort_values(ascending=False).index[0]\n",
    "print(f'{cast_16} снялся в большем количестве высокобюджетных фильмов.')"
   ]
  },
  {
   "cell_type": "markdown",
   "metadata": {
    "colab_type": "text",
    "id": "NIh6AaW5Vp_n"
   },
   "source": [
    "# 17. В фильмах какого жанра больше всего снимался Nicolas Cage? "
   ]
  },
  {
   "cell_type": "code",
   "execution_count": 169,
   "metadata": {
    "colab": {},
    "colab_type": "code",
    "id": "H74SJDIBVp_n"
   },
   "outputs": [],
   "source": [
    "answers['17'] = '2. Action'"
   ]
  },
  {
   "cell_type": "code",
   "execution_count": 315,
   "metadata": {},
   "outputs": [
    {
     "name": "stdout",
     "output_type": "stream",
     "text": [
      "Больше всего  Nicolas Cage снимался в фильмах жанра \"Action\".\n"
     ]
    }
   ],
   "source": [
    "# смотри ПРЕДОБРАБОТКУ датафрейма\n",
    "genre_17 = new_data_cast_genre[new_data_cast_genre['cast'] == 'Nicolas Cage']\\\n",
    "                                                .genres.value_counts().index[0]\n",
    "print(f'Больше всего  Nicolas Cage снимался в фильмах жанра \"{genre_17}\".')"
   ]
  },
  {
   "cell_type": "markdown",
   "metadata": {
    "colab_type": "text",
    "id": "RqOmPRfWVp_q"
   },
   "source": [
    "# 18. Самый убыточный фильм от Paramount Pictures"
   ]
  },
  {
   "cell_type": "code",
   "execution_count": 171,
   "metadata": {
    "colab": {},
    "colab_type": "code",
    "id": "9E_B0Y96Vp_r"
   },
   "outputs": [],
   "source": [
    "answers['18'] = '1. K-19: The Widowmaker (tt0267626)'"
   ]
  },
  {
   "cell_type": "code",
   "execution_count": 271,
   "metadata": {},
   "outputs": [
    {
     "name": "stdout",
     "output_type": "stream",
     "text": [
      "\"K-19: The Widowmaker\" оказался самым убыточным фильмом от Paramount Pictures.\n"
     ]
    }
   ],
   "source": [
    "# смотри ПРЕДОБРАБОТКУ датафрейма\n",
    "title_18 = new_data_company[new_data_company['production_companies'] == 'Paramount Pictures']\\\n",
    "        [['original_title', 'imdb_id', 'profit']].sort_values(by='profit', ascending=True)\\\n",
    "        .head(1).original_title.iloc[0]\n",
    "print(f'\"{title_18}\" оказался самым убыточным фильмом от Paramount Pictures.')"
   ]
  },
  {
   "cell_type": "markdown",
   "metadata": {
    "colab_type": "text",
    "id": "vS8Ur6ddVp_u"
   },
   "source": [
    "# 19. Какой год стал самым успешным по суммарным кассовым сборам?"
   ]
  },
  {
   "cell_type": "code",
   "execution_count": 173,
   "metadata": {
    "colab": {},
    "colab_type": "code",
    "id": "Dnbt4GdIVp_v"
   },
   "outputs": [],
   "source": [
    "answers['19'] = '5. 2015'"
   ]
  },
  {
   "cell_type": "code",
   "execution_count": 272,
   "metadata": {},
   "outputs": [
    {
     "name": "stdout",
     "output_type": "stream",
     "text": [
      "Самым успешным по суммарным кассовым сборам оказался 2015 год.\n"
     ]
    }
   ],
   "source": [
    "year_19 = data.groupby('release_year').revenue.sum().sort_values(ascending=False).index[0]\n",
    "print(f'Самым успешным по суммарным кассовым сборам оказался {year_19} год.')"
   ]
  },
  {
   "cell_type": "markdown",
   "metadata": {
    "colab_type": "text",
    "id": "JAzJh4QAVp_z"
   },
   "source": [
    "# 20. Какой самый прибыльный год для студии Warner Bros?"
   ]
  },
  {
   "cell_type": "code",
   "execution_count": 175,
   "metadata": {
    "colab": {},
    "colab_type": "code",
    "id": "wgVu02DEVp_0"
   },
   "outputs": [],
   "source": [
    "answers['20'] = '1. 2014'"
   ]
  },
  {
   "cell_type": "code",
   "execution_count": 273,
   "metadata": {},
   "outputs": [
    {
     "name": "stdout",
     "output_type": "stream",
     "text": [
      "Самым прибыльным годом для студии Warner Bros оказался 2014 год.\n"
     ]
    }
   ],
   "source": [
    "# смотри ПРЕДОБРАБОТКУ датафрейма\n",
    "year_20 = new_data_company[new_data_company['production_companies']\\\n",
    "        .str.match('Warner Bros', na=False)].groupby('release_year').profit.sum()\\\n",
    "        .sort_values(ascending=False).index[0]\n",
    "print(f'Самым прибыльным годом для студии Warner Bros оказался {year_20} год.')"
   ]
  },
  {
   "cell_type": "markdown",
   "metadata": {
    "colab_type": "text",
    "id": "8Im1S2HRVp_4"
   },
   "source": [
    "# 21. В каком месяце за все годы суммарно вышло больше всего фильмов?"
   ]
  },
  {
   "cell_type": "code",
   "execution_count": 177,
   "metadata": {
    "colab": {},
    "colab_type": "code",
    "id": "lev6TH7gVp_4"
   },
   "outputs": [],
   "source": [
    "answers['21'] = '4. Сентябрь'"
   ]
  },
  {
   "cell_type": "code",
   "execution_count": 316,
   "metadata": {},
   "outputs": [
    {
     "name": "stdout",
     "output_type": "stream",
     "text": [
      "Сентябрь - это месяц, в котором за все годы суммарно вышло больше всего фильмов.\n"
     ]
    }
   ],
   "source": [
    "# смотри ПРЕДОБРАБОТКУ датафрейма\n",
    "month_21 = new_data_month.groupby('release_date').imdb_id.nunique()\\\n",
    "                                .sort_values(ascending=False).index[0]\n",
    "print(f'{month_21} - это месяц, в котором за все годы суммарно вышло больше всего фильмов.')"
   ]
  },
  {
   "cell_type": "markdown",
   "metadata": {
    "colab_type": "text",
    "id": "uAJsZ_NeVp_7"
   },
   "source": [
    "# 22. Сколько суммарно вышло фильмов летом? (за июнь, июль, август)"
   ]
  },
  {
   "cell_type": "code",
   "execution_count": 179,
   "metadata": {
    "colab": {},
    "colab_type": "code",
    "id": "Aa-hEREoVp_8"
   },
   "outputs": [],
   "source": [
    "answers['22'] = '2. 450'"
   ]
  },
  {
   "cell_type": "code",
   "execution_count": 317,
   "metadata": {},
   "outputs": [
    {
     "name": "stdout",
     "output_type": "stream",
     "text": [
      "Летом суммарно вышло 450 фильмов.\n"
     ]
    }
   ],
   "source": [
    "# смотри ПРЕДОБРАБОТКУ датафрейма\n",
    "num_21 = new_data_month[new_data_month['release_date'].isin(['Июнь', 'Июль', 'Август'])]\\\n",
    "                                                                        .imdb_id.nunique()\n",
    "print(f'Летом суммарно вышло {num_21} фильмов.')"
   ]
  },
  {
   "cell_type": "markdown",
   "metadata": {
    "colab_type": "text",
    "id": "G94ppOY1VqAA"
   },
   "source": [
    "# 23. Для какого режиссера зима – самое продуктивное время года? "
   ]
  },
  {
   "cell_type": "code",
   "execution_count": 182,
   "metadata": {
    "colab": {},
    "colab_type": "code",
    "id": "RhNTsamuVqAB"
   },
   "outputs": [],
   "source": [
    "answers['23'] = '5. Peter Jackson'"
   ]
  },
  {
   "cell_type": "code",
   "execution_count": 318,
   "metadata": {},
   "outputs": [
    {
     "name": "stdout",
     "output_type": "stream",
     "text": [
      "Для режиссера Peter Jackson зима оказалась самым продуктивным временем года.\n"
     ]
    }
   ],
   "source": [
    "# смотри ПРЕДОБРАБОТКУ датафрейма\n",
    "director_23 = new_data_director_month[new_data_director_month['release_date']\\\n",
    "                        .isin(['Декабрь', 'Январь', 'Февраль'])].groupby('director')\\\n",
    "                        .imdb_id.nunique().sort_values(ascending=False).index[0]\n",
    "print(f'Для режиссера {director_23} зима оказалась самым продуктивным временем года.')"
   ]
  },
  {
   "cell_type": "markdown",
   "metadata": {
    "colab_type": "text",
    "id": "RBo0JVjVVqAF"
   },
   "source": [
    "# 24. Какая студия дает самые длинные названия своим фильмам по количеству символов?"
   ]
  },
  {
   "cell_type": "code",
   "execution_count": 184,
   "metadata": {
    "colab": {},
    "colab_type": "code",
    "id": "QRGS8L0iVqAG"
   },
   "outputs": [],
   "source": [
    "answers['24'] = '5. Four By Two Productions'"
   ]
  },
  {
   "cell_type": "code",
   "execution_count": 319,
   "metadata": {},
   "outputs": [
    {
     "name": "stdout",
     "output_type": "stream",
     "text": [
      "Студия \"Four By Two Productions\" дает самые длинные названия своим фильмам по количеству символов.\n"
     ]
    }
   ],
   "source": [
    "# смотри ПРЕДОБРАБОТКУ датафрейм\n",
    "company_24 = new_data_title.groupby('production_companies')['title_length']\\\n",
    "                                    .mean().sort_values(ascending=False).index[0]\n",
    "print('Студия \"{}\" дает самые длинные названия своим фильмам по количеству символов.'.format(company_24))"
   ]
  },
  {
   "cell_type": "markdown",
   "metadata": {
    "colab_type": "text",
    "id": "9G0hbvR7VqAK"
   },
   "source": [
    "# 25. Описание фильмов какой студии в среднем самые длинные по количеству слов?"
   ]
  },
  {
   "cell_type": "code",
   "execution_count": 186,
   "metadata": {
    "colab": {},
    "colab_type": "code",
    "id": "Ge2GsLNxVqAK"
   },
   "outputs": [],
   "source": [
    "answers['25'] = '3. Midnight Picture Show'"
   ]
  },
  {
   "cell_type": "code",
   "execution_count": 320,
   "metadata": {},
   "outputs": [
    {
     "name": "stdout",
     "output_type": "stream",
     "text": [
      "У студии \"Midnight Picture Show\" описания фильмов в среднем самые длинные по количеству слов.\n"
     ]
    }
   ],
   "source": [
    "# смотри ПРЕДОБРАБОТКУ датафрейма\n",
    "company_25 = new_data_company_overview.groupby('production_companies')\\\n",
    "                    .overview_number.mean().sort_values(ascending=False).index[0]\n",
    "print('У студии \"{}\" описания фильмов в среднем самые длинные по количеству слов.'.format(company_25))"
   ]
  },
  {
   "cell_type": "markdown",
   "metadata": {
    "colab_type": "text",
    "id": "FJ1AFt90VqAP"
   },
   "source": [
    "# 26. Какие фильмы входят в 1 процент лучших по рейтингу? \n",
    "по vote_average"
   ]
  },
  {
   "cell_type": "code",
   "execution_count": 188,
   "metadata": {
    "colab": {},
    "colab_type": "code",
    "id": "8qmJVq4CVqAQ"
   },
   "outputs": [],
   "source": [
    "answers['26'] = '1. Inside Out, The Dark Knight, 12 Years a Slave'"
   ]
  },
  {
   "cell_type": "code",
   "execution_count": 321,
   "metadata": {},
   "outputs": [
    {
     "data": {
      "text/plain": [
       "599                                   The Dark Knight\n",
       "9                                          Inside Out\n",
       "34                                               Room\n",
       "118                                      Interstellar\n",
       "125                                The Imitation Game\n",
       "119                           Guardians of the Galaxy\n",
       "128                                         Gone Girl\n",
       "138                          The Grand Budapest Hotel\n",
       "370                                         Inception\n",
       "872                                       The Pianist\n",
       "1081    The Lord of the Rings: The Return of the King\n",
       "1183                          The Wolf of Wall Street\n",
       "1191                                 12 Years a Slave\n",
       "1800                                          Memento\n",
       "Name: original_title, dtype: object"
      ]
     },
     "execution_count": 321,
     "metadata": {},
     "output_type": "execute_result"
    }
   ],
   "source": [
    "data[data['vote_average'] > data['vote_average'].quantile(.99)]\\\n",
    "            .sort_values(by='vote_average', ascending=False).original_title"
   ]
  },
  {
   "cell_type": "markdown",
   "metadata": {
    "colab_type": "text",
    "id": "MdXsUXbCVqAV"
   },
   "source": [
    "# 27. Какие актеры чаще всего снимаются в одном фильме вместе?\n"
   ]
  },
  {
   "cell_type": "code",
   "execution_count": 190,
   "metadata": {},
   "outputs": [],
   "source": [
    "answers['27'] = '5. Daniel Radcliffe & Rupert Grint'"
   ]
  },
  {
   "cell_type": "code",
   "execution_count": 341,
   "metadata": {},
   "outputs": [
    {
     "name": "stdout",
     "output_type": "stream",
     "text": [
      "Чаще всего в одном фильме снимается пара a &  .\n"
     ]
    }
   ],
   "source": [
    "# В рабочем файле в Colab у меня отображаются фамилии и имена полностью, здесь - нет\n",
    "new_data_casts['cast'].value_counts().head()\n",
    "\n",
    "name1, name2 = new_data_casts.cast.value_counts().index[2]\n",
    "print(f'Чаще всего в одном фильме снимается пара {name1} & {name2}.')"
   ]
  },
  {
   "cell_type": "markdown",
   "metadata": {
    "colab_type": "text",
    "id": "U0nONFnGVqAX"
   },
   "source": [
    "# Submission"
   ]
  },
  {
   "cell_type": "code",
   "execution_count": 191,
   "metadata": {
    "colab": {},
    "colab_type": "code",
    "id": "IfcaRO9-VqAX",
    "outputId": "0f132912-32bb-4196-c98c-abfbc4ad5a5f"
   },
   "outputs": [
    {
     "data": {
      "text/plain": [
       "{'1': '5. Pirates of the Caribbean: On Stranger Tides (tt1298650)',\n",
       " '2': '2. Gods and Generals (tt0279111)',\n",
       " '3': '3. Winnie the Pooh (tt1449283)',\n",
       " '4': '2. 110',\n",
       " '5': '1. 107',\n",
       " '6': '5. Avatar (tt0499549)',\n",
       " '7': '5. The Lone Ranger (tt1210819)',\n",
       " '8': '1. 1478',\n",
       " '9': '4. The Dark Knight (tt0468569)',\n",
       " '10': '5. The Lone Ranger (tt1210819)',\n",
       " '11': '3. Drama',\n",
       " '12': '1. Drama',\n",
       " '13': '5. Peter Jackson',\n",
       " '14': '3. Robert Rodriguez',\n",
       " '15': '3. Chris Hemsworth',\n",
       " '16': '3. Matt Damon',\n",
       " '17': '2. Action',\n",
       " '18': '1. K-19: The Widowmaker (tt0267626)',\n",
       " '19': '5. 2015',\n",
       " '20': '1. 2014',\n",
       " '21': '4. Сентябрь',\n",
       " '22': '2. 450',\n",
       " '23': '5. Peter Jackson',\n",
       " '24': '5. Four By Two Productions',\n",
       " '25': '3. Midnight Picture Show',\n",
       " '26': '1. Inside Out, The Dark Knight, 12 Years a Slave',\n",
       " '27': '5. Daniel Radcliffe & Rupert Grint'}"
      ]
     },
     "execution_count": 191,
     "metadata": {},
     "output_type": "execute_result"
    }
   ],
   "source": [
    "# в конце можно посмотреть свои ответы к каждому вопросу\n",
    "answers"
   ]
  },
  {
   "cell_type": "code",
   "execution_count": 192,
   "metadata": {
    "colab": {},
    "colab_type": "code",
    "id": "SiRmHPl8VqAd"
   },
   "outputs": [
    {
     "data": {
      "text/plain": [
       "27"
      ]
     },
     "execution_count": 192,
     "metadata": {},
     "output_type": "execute_result"
    }
   ],
   "source": [
    "# и убедиться что ни чего не пропустил)\n",
    "len(answers)"
   ]
  }
 ],
 "metadata": {
  "colab": {
   "name": "Copy of [SF-DST] Movies IMBD v4.1 TEMPLATE.ipynb",
   "provenance": []
  },
  "kernelspec": {
   "display_name": "Python 3",
   "language": "python",
   "name": "python3"
  },
  "language_info": {
   "codemirror_mode": {
    "name": "ipython",
    "version": 3
   },
   "file_extension": ".py",
   "mimetype": "text/x-python",
   "name": "python",
   "nbconvert_exporter": "python",
   "pygments_lexer": "ipython3",
   "version": "3.8.5"
  }
 },
 "nbformat": 4,
 "nbformat_minor": 1
}
