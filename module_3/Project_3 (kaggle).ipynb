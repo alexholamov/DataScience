{
 "cells": [
  {
   "cell_type": "markdown",
   "metadata": {},
   "source": [
    "# Загрузка Pandas и очистка данных"
   ]
  },
  {
   "cell_type": "code",
   "execution_count": 374,
   "metadata": {},
   "outputs": [],
   "source": [
    "import pandas as pd\n",
    "import numpy as np\n",
    "import re\n",
    "import math\n",
    "\n",
    "df = pd.read_csv('main_task.csv')"
   ]
  },
  {
   "cell_type": "markdown",
   "metadata": {},
   "source": [
    "## Restaurant_id"
   ]
  },
  {
   "cell_type": "code",
   "execution_count": 375,
   "metadata": {},
   "outputs": [],
   "source": [
    "# Selecting number from ID\n",
    "df['Restaurant_id'] = df['Restaurant_id'].apply(lambda x: re.findall(r'\\d+', str(x))[0])"
   ]
  },
  {
   "cell_type": "code",
   "execution_count": 376,
   "metadata": {},
   "outputs": [],
   "source": [
    "# Changing the type of data in the column\n",
    "df['Restaurant_id'] = df['Restaurant_id'].astype(int)"
   ]
  },
  {
   "cell_type": "markdown",
   "metadata": {},
   "source": [
    "## City"
   ]
  },
  {
   "cell_type": "code",
   "execution_count": 377,
   "metadata": {},
   "outputs": [],
   "source": [
    "# Dummy- Creation\n",
    "city = pd.get_dummies(df['City'], drop_first=False)"
   ]
  },
  {
   "cell_type": "code",
   "execution_count": 378,
   "metadata": {},
   "outputs": [],
   "source": [
    "# Concatination in a DataFrame\n",
    "df = pd.concat([df, city], axis=1)"
   ]
  },
  {
   "cell_type": "markdown",
   "metadata": {},
   "source": [
    "## Cuisine Style"
   ]
  },
  {
   "cell_type": "code",
   "execution_count": 379,
   "metadata": {},
   "outputs": [],
   "source": [
    "# Empty values replace with \"Uknown\":\n",
    "df['Cuisine Style'] = df['Cuisine Style'].fillna(\"Uknown\")"
   ]
  },
  {
   "cell_type": "code",
   "execution_count": 380,
   "metadata": {},
   "outputs": [],
   "source": [
    "# Using the Formatting Function for Column Values:\n",
    "def list_cuisine(cell):\n",
    "    \"\"\"The function formates values in the column's cells\"\"\"\n",
    "    cell = str(cell)\n",
    "    cell = cell.replace(\"[\", \"\")\n",
    "    cell = cell.replace(\"]\", \"\")\n",
    "    cell = cell.replace(\"'\", \"\")\n",
    "    cell = cell.split(', ')\n",
    "    return cell\n",
    "\n",
    "\n",
    "df['Cuisine Style'] = df['Cuisine Style'].apply(list_cuisine)"
   ]
  },
  {
   "cell_type": "code",
   "execution_count": 381,
   "metadata": {},
   "outputs": [
    {
     "data": {
      "text/plain": [
       "2.6"
      ]
     },
     "execution_count": 381,
     "metadata": {},
     "output_type": "execute_result"
    }
   ],
   "source": [
    "# TASK -- Какое среднее количество кухонь предлагается в одном ресторане?\n",
    "round(df['Cuisine Style'].apply(lambda x: len(x)).mean(), 1)"
   ]
  },
  {
   "cell_type": "code",
   "execution_count": 382,
   "metadata": {},
   "outputs": [
    {
     "data": {
      "text/plain": [
       "125"
      ]
     },
     "execution_count": 382,
     "metadata": {},
     "output_type": "execute_result"
    }
   ],
   "source": [
    "# TASK -- Сколько типов кухонь представлено в наборе данных (без \"Uknown\")?\n",
    "df = df.explode('Cuisine Style')\n",
    "len(df['Cuisine Style'].value_counts())-1"
   ]
  },
  {
   "cell_type": "code",
   "execution_count": 383,
   "metadata": {},
   "outputs": [
    {
     "data": {
      "text/plain": [
       "'Vegetarian Friendly'"
      ]
     },
     "execution_count": 383,
     "metadata": {},
     "output_type": "execute_result"
    }
   ],
   "source": [
    "# TASK -- Какая кухня представлена в наибольшем количестве ресторанов?\n",
    "df = df.explode('Cuisine Style')\n",
    "df['Cuisine Style'].value_counts().index[0]"
   ]
  },
  {
   "cell_type": "code",
   "execution_count": 384,
   "metadata": {},
   "outputs": [],
   "source": [
    "# Dummy- Creation:\n",
    "cuisine = pd.get_dummies(df['Cuisine Style'], drop_first=False)"
   ]
  },
  {
   "cell_type": "code",
   "execution_count": 385,
   "metadata": {},
   "outputs": [],
   "source": [
    "# Concatination in a DataFrame\n",
    "df = pd.concat([df, cuisine], axis=1)"
   ]
  },
  {
   "cell_type": "code",
   "execution_count": 386,
   "metadata": {},
   "outputs": [],
   "source": [
    "# Feature Engeneering - number of cuisines in a restaurant\n",
    "df['Cuisine Style'] = df['Cuisine Style'].apply(lambda x: len(x))"
   ]
  },
  {
   "cell_type": "markdown",
   "metadata": {},
   "source": [
    "## Ranking and Rating"
   ]
  },
  {
   "cell_type": "code",
   "execution_count": 387,
   "metadata": {},
   "outputs": [],
   "source": [
    "# Feature Engeneering - \"Ranking\" on \"Rating\" division\n",
    "df['Rating/Ranking'] = df['Rating'] / df['Ranking']"
   ]
  },
  {
   "cell_type": "markdown",
   "metadata": {},
   "source": [
    "## Price Range"
   ]
  },
  {
   "cell_type": "code",
   "execution_count": 388,
   "metadata": {},
   "outputs": [],
   "source": [
    "# Замена значений Price Range на числовые:\n",
    "dict_price_range = {'$': 1, '$$ - $$$': 2, '$$$$': 3}\n",
    "df['Price Range'] = df['Price Range'].replace(to_replace=dict_price_range)"
   ]
  },
  {
   "cell_type": "code",
   "execution_count": 389,
   "metadata": {},
   "outputs": [],
   "source": [
    "# Замена пустых значений Price Range на наиболее популярные значения:     \n",
    "df['Price Range'] = df['Price Range'].\\\n",
    "fillna(df['Price Range'].value_counts().index[0])"
   ]
  },
  {
   "cell_type": "code",
   "execution_count": 390,
   "metadata": {},
   "outputs": [],
   "source": [
    "# Dummy- Creation\n",
    "price = pd.get_dummies(df['Price Range'], drop_first=False)"
   ]
  },
  {
   "cell_type": "code",
   "execution_count": 391,
   "metadata": {},
   "outputs": [],
   "source": [
    "# Concatination in a DataFrame\n",
    "df = pd.concat([df, price], axis=1)"
   ]
  },
  {
   "cell_type": "markdown",
   "metadata": {},
   "source": [
    "## Number of Reviews"
   ]
  },
  {
   "cell_type": "code",
   "execution_count": 392,
   "metadata": {},
   "outputs": [],
   "source": [
    "# Filling in the gaps with average number of reviews\n",
    "df['Number of Reviews'] = df['Number of Reviews'].fillna(round(df['Number of Reviews'].mean()))"
   ]
  },
  {
   "cell_type": "code",
   "execution_count": 393,
   "metadata": {},
   "outputs": [],
   "source": [
    "# Changing the type of data in the column\n",
    "df['Number of Reviews'] = df['Number of Reviews'].astype(int)"
   ]
  },
  {
   "cell_type": "markdown",
   "metadata": {},
   "source": [
    "## Reviews"
   ]
  },
  {
   "cell_type": "code",
   "execution_count": 394,
   "metadata": {},
   "outputs": [],
   "source": [
    "# Remove empty cells\n",
    "df = df[df['Reviews'] != '[[], []]']"
   ]
  },
  {
   "cell_type": "code",
   "execution_count": 395,
   "metadata": {},
   "outputs": [],
   "source": [
    "# Feature Engeneering - length of the review\n",
    "df['Review_len'] = df['Reviews'].apply(lambda x: len(x))"
   ]
  },
  {
   "cell_type": "code",
   "execution_count": 396,
   "metadata": {},
   "outputs": [],
   "source": [
    "# Find only data's numbers\n",
    "df['Reviews'] = df['Reviews'].apply(lambda x: re.findall(r'\\d+/\\d+/\\d+', str(x)))"
   ]
  },
  {
   "cell_type": "code",
   "execution_count": 397,
   "metadata": {},
   "outputs": [],
   "source": [
    "# TASK -- The latest review\n",
    "# df = df.explode('Reviews')\n",
    "# df['Reviews'] = pd.to_datetime(df['Reviews'])\n",
    "# df['Reviews'].max()"
   ]
  },
  {
   "cell_type": "code",
   "execution_count": 398,
   "metadata": {},
   "outputs": [],
   "source": [
    "# New columns for 1st and 2nd review\n",
    "df['1-Review'] = df['Reviews'].apply(lambda x: x[0])\n",
    "df['2-Review'] = df['Reviews'].apply(lambda x: x[-1])"
   ]
  },
  {
   "cell_type": "code",
   "execution_count": 399,
   "metadata": {},
   "outputs": [],
   "source": [
    "# Conversion to date\n",
    "df['1-Review'] = pd.to_datetime(df['1-Review'])\n",
    "df['2-Review'] = pd.to_datetime(df['2-Review'])"
   ]
  },
  {
   "cell_type": "code",
   "execution_count": 400,
   "metadata": {},
   "outputs": [],
   "source": [
    "# Number of dates between reviews\n",
    "df['Delta-Review'] = (abs(df['2-Review'] - df['1-Review'])).dt.days"
   ]
  },
  {
   "cell_type": "code",
   "execution_count": 401,
   "metadata": {},
   "outputs": [
    {
     "data": {
      "text/plain": [
       "3207"
      ]
     },
     "execution_count": 401,
     "metadata": {},
     "output_type": "execute_result"
    }
   ],
   "source": [
    "# TASK -- Max number of dates between reviews\n",
    "df['Delta-Review'].sort_values(ascending=False).iloc[0]"
   ]
  },
  {
   "cell_type": "markdown",
   "metadata": {},
   "source": [
    "## URL_TA"
   ]
  },
  {
   "cell_type": "code",
   "execution_count": 402,
   "metadata": {},
   "outputs": [],
   "source": [
    "# String editing (looking for the restaurant's name)\n",
    "df['URL_TA'] = df['URL_TA'].apply(lambda x: re.findall(r'-\\D+-', str(x))[0])\n",
    "df['URL_TA'] = df['URL_TA'].apply(lambda x: x.replace('-Reviews-', '')[:-1])"
   ]
  },
  {
   "cell_type": "code",
   "execution_count": 403,
   "metadata": {},
   "outputs": [],
   "source": [
    "# Feature Engeneering - length of restaurant's name\n",
    "df['URL_TA'] = df['URL_TA'].apply(lambda x: len(x))"
   ]
  },
  {
   "cell_type": "markdown",
   "metadata": {},
   "source": [
    "## Rest Unused Columns"
   ]
  },
  {
   "cell_type": "code",
   "execution_count": 404,
   "metadata": {},
   "outputs": [],
   "source": [
    "# Deletion\n",
    "df = df.drop(['City', 'Price Range', 'Reviews',\\\n",
    "              'ID_TA', '1-Review', '2-Review'], axis=1)"
   ]
  },
  {
   "cell_type": "markdown",
   "metadata": {},
   "source": [
    "## Normalization"
   ]
  },
  {
   "cell_type": "code",
   "execution_count": 405,
   "metadata": {},
   "outputs": [],
   "source": [
    "df['Cuisine Style'] = np.log(df['Cuisine Style'])\n",
    "df['Ranking'] = np.log(df['Ranking'])\n",
    "df['Rating'] = np.log(df['Rating'])\n",
    "df['Number of Reviews'] = np.log(df['Number of Reviews'])\n",
    "df['Rating/Ranking'] = np.log(df['Rating/Ranking'])\n",
    "df['Review_len'] = np.log(df['Review_len'])"
   ]
  },
  {
   "cell_type": "markdown",
   "metadata": {},
   "source": [
    "# Разбиваем датафрейм на части, необходимые для обучения и тестирования модели"
   ]
  },
  {
   "cell_type": "code",
   "execution_count": 406,
   "metadata": {},
   "outputs": [],
   "source": [
    "# Х - данные с информацией о ресторанах, у - целевая переменная (рейтинги ресторанов)\n",
    "X = df.drop(['Restaurant_id', 'Rating'], axis = 1)\n",
    "y = df['Rating']"
   ]
  },
  {
   "cell_type": "code",
   "execution_count": 407,
   "metadata": {},
   "outputs": [],
   "source": [
    "# Загружаем специальный инструмент для разбивки:\n",
    "from sklearn.model_selection import train_test_split"
   ]
  },
  {
   "cell_type": "code",
   "execution_count": 408,
   "metadata": {},
   "outputs": [],
   "source": [
    "# Наборы данных с меткой \"train\" будут использоваться для обучения модели, \"test\" - для тестирования.\n",
    "# Для тестирования мы будем использовать 25% от исходного датасета.\n",
    "X_train, X_test, y_train, y_test = train_test_split(X, y, test_size=0.25)"
   ]
  },
  {
   "cell_type": "markdown",
   "metadata": {},
   "source": [
    "# Создаём, обучаем и тестируем модель"
   ]
  },
  {
   "cell_type": "code",
   "execution_count": 409,
   "metadata": {},
   "outputs": [],
   "source": [
    "# Импортируем необходимые библиотеки:\n",
    "from sklearn.ensemble import RandomForestRegressor # инструмент для создания и обучения модели\n",
    "from sklearn import metrics # инструменты для оценки точности модели"
   ]
  },
  {
   "cell_type": "code",
   "execution_count": 410,
   "metadata": {},
   "outputs": [],
   "source": [
    "# Создаём модель\n",
    "regr = RandomForestRegressor(n_estimators=100)\n",
    "\n",
    "# Обучаем модель на тестовом наборе данных\n",
    "regr.fit(X_train, y_train)\n",
    "\n",
    "# Используем обученную модель для предсказания рейтинга ресторанов в тестовой выборке.\n",
    "# Предсказанные значения записываем в переменную y_pred\n",
    "y_pred = regr.predict(X_test)"
   ]
  },
  {
   "cell_type": "code",
   "execution_count": 411,
   "metadata": {},
   "outputs": [
    {
     "name": "stdout",
     "output_type": "stream",
     "text": [
      "MAE: 0.0023586698003439134\n"
     ]
    }
   ],
   "source": [
    "# Сравниваем предсказанные значения (y_pred) с реальными (y_test), и смотрим насколько они в среднем отличаются\n",
    "# Метрика называется Mean Absolute Error (MAE) и показывает среднее отклонение предсказанных значений от фактических.\n",
    "print('MAE:', metrics.mean_absolute_error(y_test, y_pred))"
   ]
  }
 ],
 "metadata": {
  "kernelspec": {
   "display_name": "Python 3",
   "language": "python",
   "name": "python3"
  },
  "language_info": {
   "codemirror_mode": {
    "name": "ipython",
    "version": 3
   },
   "file_extension": ".py",
   "mimetype": "text/x-python",
   "name": "python",
   "nbconvert_exporter": "python",
   "pygments_lexer": "ipython3",
   "version": "3.8.5"
  }
 },
 "nbformat": 4,
 "nbformat_minor": 2
}
